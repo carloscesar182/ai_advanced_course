{
  "nbformat": 4,
  "nbformat_minor": 0,
  "metadata": {
    "colab": {
      "provenance": [],
      "authorship_tag": "ABX9TyNFCzGviV1e0gns9xzCeq8V",
      "include_colab_link": true
    },
    "kernelspec": {
      "name": "python3",
      "display_name": "Python 3"
    },
    "language_info": {
      "name": "python"
    }
  },
  "cells": [
    {
      "cell_type": "markdown",
      "metadata": {
        "id": "view-in-github",
        "colab_type": "text"
      },
      "source": [
        "<a href=\"https://colab.research.google.com/github/carloscesar182/ai_advanced_course/blob/main/Notebooks/AnomalyDetection/LOF.ipynb\" target=\"_parent\"><img src=\"https://colab.research.google.com/assets/colab-badge.svg\" alt=\"Open In Colab\"/></a>"
      ]
    },
    {
      "cell_type": "code",
      "execution_count": 1,
      "metadata": {
        "id": "v2gi0OeRXK4V"
      },
      "outputs": [],
      "source": [
        "import numpy as np\n",
        "from sklearn.neighbors import LocalOutlierFactor"
      ]
    },
    {
      "cell_type": "code",
      "source": [
        "# criar a matriz\n",
        "np.random.seed(42)\n",
        "data_matrix = np.random.rand(100,2)\n",
        "data_matrix"
      ],
      "metadata": {
        "colab": {
          "base_uri": "https://localhost:8080/"
        },
        "id": "w01H_94KfN58",
        "outputId": "3e158f76-78aa-47f2-c921-a144f1e14c41"
      },
      "execution_count": 5,
      "outputs": [
        {
          "output_type": "execute_result",
          "data": {
            "text/plain": [
              "array([[0.37454012, 0.95071431],\n",
              "       [0.73199394, 0.59865848],\n",
              "       [0.15601864, 0.15599452],\n",
              "       [0.05808361, 0.86617615],\n",
              "       [0.60111501, 0.70807258],\n",
              "       [0.02058449, 0.96990985],\n",
              "       [0.83244264, 0.21233911],\n",
              "       [0.18182497, 0.18340451],\n",
              "       [0.30424224, 0.52475643],\n",
              "       [0.43194502, 0.29122914],\n",
              "       [0.61185289, 0.13949386],\n",
              "       [0.29214465, 0.36636184],\n",
              "       [0.45606998, 0.78517596],\n",
              "       [0.19967378, 0.51423444],\n",
              "       [0.59241457, 0.04645041],\n",
              "       [0.60754485, 0.17052412],\n",
              "       [0.06505159, 0.94888554],\n",
              "       [0.96563203, 0.80839735],\n",
              "       [0.30461377, 0.09767211],\n",
              "       [0.68423303, 0.44015249],\n",
              "       [0.12203823, 0.49517691],\n",
              "       [0.03438852, 0.9093204 ],\n",
              "       [0.25877998, 0.66252228],\n",
              "       [0.31171108, 0.52006802],\n",
              "       [0.54671028, 0.18485446],\n",
              "       [0.96958463, 0.77513282],\n",
              "       [0.93949894, 0.89482735],\n",
              "       [0.59789998, 0.92187424],\n",
              "       [0.0884925 , 0.19598286],\n",
              "       [0.04522729, 0.32533033],\n",
              "       [0.38867729, 0.27134903],\n",
              "       [0.82873751, 0.35675333],\n",
              "       [0.28093451, 0.54269608],\n",
              "       [0.14092422, 0.80219698],\n",
              "       [0.07455064, 0.98688694],\n",
              "       [0.77224477, 0.19871568],\n",
              "       [0.00552212, 0.81546143],\n",
              "       [0.70685734, 0.72900717],\n",
              "       [0.77127035, 0.07404465],\n",
              "       [0.35846573, 0.11586906],\n",
              "       [0.86310343, 0.62329813],\n",
              "       [0.33089802, 0.06355835],\n",
              "       [0.31098232, 0.32518332],\n",
              "       [0.72960618, 0.63755747],\n",
              "       [0.88721274, 0.47221493],\n",
              "       [0.11959425, 0.71324479],\n",
              "       [0.76078505, 0.5612772 ],\n",
              "       [0.77096718, 0.4937956 ],\n",
              "       [0.52273283, 0.42754102],\n",
              "       [0.02541913, 0.10789143],\n",
              "       [0.03142919, 0.63641041],\n",
              "       [0.31435598, 0.50857069],\n",
              "       [0.90756647, 0.24929223],\n",
              "       [0.41038292, 0.75555114],\n",
              "       [0.22879817, 0.07697991],\n",
              "       [0.28975145, 0.16122129],\n",
              "       [0.92969765, 0.80812038],\n",
              "       [0.63340376, 0.87146059],\n",
              "       [0.80367208, 0.18657006],\n",
              "       [0.892559  , 0.53934224],\n",
              "       [0.80744016, 0.8960913 ],\n",
              "       [0.31800347, 0.11005192],\n",
              "       [0.22793516, 0.42710779],\n",
              "       [0.81801477, 0.86073058],\n",
              "       [0.00695213, 0.5107473 ],\n",
              "       [0.417411  , 0.22210781],\n",
              "       [0.11986537, 0.33761517],\n",
              "       [0.9429097 , 0.32320293],\n",
              "       [0.51879062, 0.70301896],\n",
              "       [0.3636296 , 0.97178208],\n",
              "       [0.96244729, 0.2517823 ],\n",
              "       [0.49724851, 0.30087831],\n",
              "       [0.28484049, 0.03688695],\n",
              "       [0.60956433, 0.50267902],\n",
              "       [0.05147875, 0.27864646],\n",
              "       [0.90826589, 0.23956189],\n",
              "       [0.14489487, 0.48945276],\n",
              "       [0.98565045, 0.24205527],\n",
              "       [0.67213555, 0.76161962],\n",
              "       [0.23763754, 0.72821635],\n",
              "       [0.36778313, 0.63230583],\n",
              "       [0.63352971, 0.53577468],\n",
              "       [0.09028977, 0.8353025 ],\n",
              "       [0.32078006, 0.18651851],\n",
              "       [0.04077514, 0.59089294],\n",
              "       [0.67756436, 0.01658783],\n",
              "       [0.51209306, 0.22649578],\n",
              "       [0.64517279, 0.17436643],\n",
              "       [0.69093774, 0.38673535],\n",
              "       [0.93672999, 0.13752094],\n",
              "       [0.34106635, 0.11347352],\n",
              "       [0.92469362, 0.87733935],\n",
              "       [0.25794163, 0.65998405],\n",
              "       [0.8172222 , 0.55520081],\n",
              "       [0.52965058, 0.24185229],\n",
              "       [0.09310277, 0.89721576],\n",
              "       [0.90041806, 0.63310146],\n",
              "       [0.33902979, 0.34920957],\n",
              "       [0.72595568, 0.89711026],\n",
              "       [0.88708642, 0.77987555]])"
            ]
          },
          "metadata": {},
          "execution_count": 5
        }
      ]
    },
    {
      "cell_type": "code",
      "source": [
        "# pegar uma posição da matriz\n",
        "data_matrix[0,0] = 1000"
      ],
      "metadata": {
        "id": "zteNYE5Xfdf7"
      },
      "execution_count": 6,
      "outputs": []
    },
    {
      "cell_type": "code",
      "source": [
        "# transformar a matriz em vetor pra poder passar como parametro pro modelo lof\n",
        "data_matrix = data_matrix.reshape(-1,1)"
      ],
      "metadata": {
        "id": "1WJ4UPN0fvA9"
      },
      "execution_count": 7,
      "outputs": []
    },
    {
      "cell_type": "code",
      "source": [
        "# criar o lof\n",
        "# parametro n_neighbords é o número de elementos considerados na avaliação do outlier\n",
        "# parametro contamination informa a proporção de outliers que se espera encontrar no conjunto de dados. É usado como limite pra definir o que é um outlier\n",
        "lof = LocalOutlierFactor(n_neighbors=20, contamination='auto')\n",
        "lista = lof.fit_predict(data_matrix)\n",
        "lista"
      ],
      "metadata": {
        "colab": {
          "base_uri": "https://localhost:8080/"
        },
        "id": "mWOVQgVdf3js",
        "outputId": "9e607c3b-fe66-46c2-e0aa-9b07d9cc8b60"
      },
      "execution_count": 9,
      "outputs": [
        {
          "output_type": "execute_result",
          "data": {
            "text/plain": [
              "array([-1,  1,  1,  1,  1,  1,  1,  1,  1,  1,  1,  1,  1,  1,  1,  1,  1,\n",
              "        1,  1,  1,  1,  1,  1,  1,  1,  1,  1,  1,  1,  1,  1,  1,  1,  1,\n",
              "        1,  1,  1,  1,  1,  1,  1,  1,  1,  1,  1,  1,  1,  1,  1,  1,  1,\n",
              "        1,  1,  1,  1,  1,  1,  1,  1,  1,  1,  1,  1,  1,  1,  1,  1,  1,\n",
              "        1,  1,  1,  1,  1,  1,  1,  1,  1,  1,  1,  1,  1,  1,  1,  1,  1,\n",
              "        1,  1,  1,  1,  1,  1,  1,  1,  1,  1,  1,  1,  1,  1,  1,  1,  1,\n",
              "        1,  1,  1,  1,  1,  1,  1,  1,  1,  1,  1,  1,  1,  1,  1,  1,  1,\n",
              "        1,  1,  1,  1,  1,  1,  1,  1,  1,  1,  1,  1,  1,  1,  1,  1,  1,\n",
              "        1,  1,  1,  1,  1,  1,  1,  1,  1,  1,  1,  1,  1,  1,  1,  1,  1,\n",
              "        1,  1,  1,  1,  1,  1,  1,  1,  1,  1,  1,  1,  1,  1,  1,  1,  1,\n",
              "        1,  1,  1,  1,  1,  1,  1,  1,  1,  1,  1,  1,  1,  1,  1,  1,  1,\n",
              "        1,  1,  1,  1,  1,  1,  1,  1,  1,  1,  1,  1,  1])"
            ]
          },
          "metadata": {},
          "execution_count": 9
        }
      ]
    },
    {
      "cell_type": "code",
      "source": [
        "# ver os valores marcados como outliers\n",
        "positions = np.where(lista == -1)\n",
        "print(data_matrix[positions])"
      ],
      "metadata": {
        "colab": {
          "base_uri": "https://localhost:8080/"
        },
        "id": "WgRVvHBpiuU-",
        "outputId": "4145b551-4060-4657-e184-5d45332b5dfb"
      },
      "execution_count": 11,
      "outputs": [
        {
          "output_type": "stream",
          "name": "stdout",
          "text": [
            "[[1000.]]\n"
          ]
        }
      ]
    }
  ]
}