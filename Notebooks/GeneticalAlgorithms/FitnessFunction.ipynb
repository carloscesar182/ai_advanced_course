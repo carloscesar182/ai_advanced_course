{
  "nbformat": 4,
  "nbformat_minor": 0,
  "metadata": {
    "colab": {
      "provenance": [],
      "authorship_tag": "ABX9TyN27s9AIzvGaKH/AWBul+jN",
      "include_colab_link": true
    },
    "kernelspec": {
      "name": "python3",
      "display_name": "Python 3"
    },
    "language_info": {
      "name": "python"
    }
  },
  "cells": [
    {
      "cell_type": "markdown",
      "metadata": {
        "id": "view-in-github",
        "colab_type": "text"
      },
      "source": [
        "<a href=\"https://colab.research.google.com/github/carloscesar182/ai_advanced_course/blob/main/Notebooks/GeneticalAlgorithms/FitnessFunction.ipynb\" target=\"_parent\"><img src=\"https://colab.research.google.com/assets/colab-badge.svg\" alt=\"Open In Colab\"/></a>"
      ]
    },
    {
      "cell_type": "code",
      "execution_count": 3,
      "metadata": {
        "id": "srB4Igf27wYH"
      },
      "outputs": [],
      "source": [
        "# 2 * x + 5 = 20\n",
        "import numpy as np\n",
        "\n",
        "def fitness_func(solution):\n",
        "  x = solution[0]\n",
        "  func_output = 2 * x + 5\n",
        "  target_output = 20\n",
        "  fitness = 1.0 / np.abs(func_output - target_output + 1e-8)\n",
        "  return fitness"
      ]
    },
    {
      "cell_type": "code",
      "source": [
        "lista = [-10,-5,0,5,7.5,10,11]\n",
        "for value in lista:\n",
        "  result = fitness_func([value])\n",
        "  print(result)"
      ],
      "metadata": {
        "colab": {
          "base_uri": "https://localhost:8080/"
        },
        "id": "fEChkbgN8uR4",
        "outputId": "d1dd8434-99c7-45bf-cc30-80ec34575892"
      },
      "execution_count": 5,
      "outputs": [
        {
          "output_type": "stream",
          "name": "stdout",
          "text": [
            "0.028571428579591836\n",
            "0.040000000016\n",
            "0.06666666671111111\n",
            "0.2000000004\n",
            "100000000.0\n",
            "0.1999999996\n",
            "0.14285714265306124\n"
          ]
        }
      ]
    }
  ]
}