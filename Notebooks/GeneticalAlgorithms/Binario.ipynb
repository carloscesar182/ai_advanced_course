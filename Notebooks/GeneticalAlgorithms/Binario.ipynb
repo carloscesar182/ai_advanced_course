{
  "nbformat": 4,
  "nbformat_minor": 0,
  "metadata": {
    "colab": {
      "provenance": [],
      "authorship_tag": "ABX9TyO/6KMM9jbR378YOEyW3pmP",
      "include_colab_link": true
    },
    "kernelspec": {
      "name": "python3",
      "display_name": "Python 3"
    },
    "language_info": {
      "name": "python"
    }
  },
  "cells": [
    {
      "cell_type": "markdown",
      "metadata": {
        "id": "view-in-github",
        "colab_type": "text"
      },
      "source": [
        "<a href=\"https://colab.research.google.com/github/carloscesar182/ai_advanced_course/blob/main/Notebooks/GeneticalAlgorithms/Binario.ipynb\" target=\"_parent\"><img src=\"https://colab.research.google.com/assets/colab-badge.svg\" alt=\"Open In Colab\"/></a>"
      ]
    },
    {
      "cell_type": "code",
      "execution_count": null,
      "metadata": {
        "id": "TTqX32icCp_2"
      },
      "outputs": [],
      "source": [
        "!pip install pygad"
      ]
    },
    {
      "cell_type": "code",
      "source": [
        "import pygad\n",
        "import numpy as np"
      ],
      "metadata": {
        "id": "cLYZ-ZotCxJz"
      },
      "execution_count": 2,
      "outputs": []
    },
    {
      "cell_type": "code",
      "source": [
        "# exemplo clássico da mochila do viajante\n",
        "\n",
        "# lista dos produtos que vão na mochila\n",
        "itens = [\n",
        "    (\"canivete\", 10, 1),\n",
        "    (\"feijão\", 20, 5),\n",
        "    (\"batatas\", 15, 10),\n",
        "    (\"lanterna\", 2, 1),\n",
        "    (\"saco de dormir\", 30, 7),\n",
        "    (\"corda\", 3, 5),\n",
        "    (\"bussola\", 30, 1)\n",
        "]\n",
        "\n",
        "limite_peso = 15\n",
        "\n",
        "# a fitness function vai percorrer os itens da lista\n",
        "# se tiver valor 1, soma os pontos e pesos\n",
        "# depois que pegou toda a solução, valida se passou do limite de peso\n",
        "# se passou do limite de peso, retorna -1. Se não, retorna os pontos\n",
        "def fitness_func(ga_instance, solution, solution_idx):\n",
        "  pontos = 0\n",
        "  peso = 0\n",
        "  for i in range(len(solution)):\n",
        "    if solution[i] == 1:\n",
        "      pontos += itens[i][1]\n",
        "      peso += itens[i][2]\n",
        "  if peso > limite_peso:\n",
        "    return -1\n",
        "  return pontos\n",
        "\n",
        "# implementar o algoritmo genético\n",
        "ga_instance = pygad.GA(\n",
        "    num_generations=200,\n",
        "    num_parents_mating=5,\n",
        "    fitness_func=fitness_func,\n",
        "    sol_per_pop=50,\n",
        "    num_genes=len(itens),\n",
        "    gene_type=int,\n",
        "    init_range_low=0,\n",
        "    init_range_high=2, # na pratica é 1\n",
        "    mutation_percent_genes=10\n",
        ")\n",
        "\n",
        "# rodar o algoritmo\n",
        "ga_instance.run()\n",
        "\n",
        "solution, solution_fitness, _ = ga_instance.best_solution()\n",
        "print(\"Melhor solução: \", solution)\n",
        "print(\"Fitness da melhor solução: \", solution_fitness)"
      ],
      "metadata": {
        "colab": {
          "base_uri": "https://localhost:8080/"
        },
        "id": "jBpmdbIlC2tl",
        "outputId": "b7b8a10c-51b0-40d4-bdad-2d67636fe8e7"
      },
      "execution_count": 17,
      "outputs": [
        {
          "output_type": "stream",
          "name": "stdout",
          "text": [
            "Melhor solução:  [  1   1 -20   1   1 -22   1]\n",
            "Fitness da melhor solução:  92\n"
          ]
        }
      ]
    }
  ]
}