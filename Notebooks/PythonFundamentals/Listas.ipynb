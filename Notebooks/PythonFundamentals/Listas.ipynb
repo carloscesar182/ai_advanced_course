{
  "nbformat": 4,
  "nbformat_minor": 0,
  "metadata": {
    "colab": {
      "provenance": [],
      "authorship_tag": "ABX9TyMGI41caTm3Gc6sLviomDV4",
      "include_colab_link": true
    },
    "kernelspec": {
      "name": "python3",
      "display_name": "Python 3"
    },
    "language_info": {
      "name": "python"
    }
  },
  "cells": [
    {
      "cell_type": "markdown",
      "metadata": {
        "id": "view-in-github",
        "colab_type": "text"
      },
      "source": [
        "<a href=\"https://colab.research.google.com/github/carloscesar182/ai_advanced_course/blob/main/Notebooks/PythonFundamentals/Listas.ipynb\" target=\"_parent\"><img src=\"https://colab.research.google.com/assets/colab-badge.svg\" alt=\"Open In Colab\"/></a>"
      ]
    },
    {
      "cell_type": "code",
      "execution_count": 1,
      "metadata": {
        "colab": {
          "base_uri": "https://localhost:8080/"
        },
        "id": "EECcrOGXcEFS",
        "outputId": "48a8b9d6-ed15-4177-e003-390f4f3d32f6"
      },
      "outputs": [
        {
          "output_type": "stream",
          "name": "stdout",
          "text": [
            "[1, 2, 3, 4, 5]\n"
          ]
        }
      ],
      "source": [
        "# listas de valores inteiros\n",
        "lst = [1,2,3,4,5]\n",
        "print(lst)"
      ]
    },
    {
      "cell_type": "code",
      "source": [
        "# lista de vários tipos\n",
        "lst2 = [-1,'',2,3.2,\"4\",\"sal\",True]\n",
        "print(lst2)"
      ],
      "metadata": {
        "colab": {
          "base_uri": "https://localhost:8080/"
        },
        "id": "3uHLCpWGcWG0",
        "outputId": "bd6fba84-0e94-42dc-cb7d-299aac179282"
      },
      "execution_count": 5,
      "outputs": [
        {
          "output_type": "stream",
          "name": "stdout",
          "text": [
            "[-1, '', 2, 3.2, '4', 'sal', True]\n"
          ]
        }
      ]
    },
    {
      "cell_type": "code",
      "source": [
        "# lista com lista\n",
        "lst3 = [10,12,13,[4,5,6],'a']\n",
        "print(lst3)"
      ],
      "metadata": {
        "colab": {
          "base_uri": "https://localhost:8080/"
        },
        "id": "ePMHqUPrci6g",
        "outputId": "77483008-d519-4a7d-a32d-b6cacb03efaa"
      },
      "execution_count": 11,
      "outputs": [
        {
          "output_type": "stream",
          "name": "stdout",
          "text": [
            "[10, 12, 13, [4, 5, 6], 'a']\n"
          ]
        }
      ]
    },
    {
      "cell_type": "code",
      "source": [
        "# lista com range\n",
        "lst4 = list(range(10))\n",
        "print(lst4)"
      ],
      "metadata": {
        "colab": {
          "base_uri": "https://localhost:8080/"
        },
        "id": "uBVp_UmJcm7_",
        "outputId": "94868f47-4ad7-4aa3-93f3-37a39612eacd"
      },
      "execution_count": 7,
      "outputs": [
        {
          "output_type": "stream",
          "name": "stdout",
          "text": [
            "[0, 1, 2, 3, 4, 5, 6, 7, 8, 9]\n"
          ]
        }
      ]
    },
    {
      "cell_type": "code",
      "source": [
        "# verificar comprimento da lista\n",
        "print(len(lst))"
      ],
      "metadata": {
        "colab": {
          "base_uri": "https://localhost:8080/"
        },
        "id": "ta87yrbRcqZP",
        "outputId": "d7bfd7cb-adb0-4a78-e468-27ea331f1ae6"
      },
      "execution_count": 8,
      "outputs": [
        {
          "output_type": "stream",
          "name": "stdout",
          "text": [
            "5\n"
          ]
        }
      ]
    },
    {
      "cell_type": "code",
      "source": [
        "# acessando elementos da lista\n",
        "print(lst[0])\n",
        "\n",
        "# posição 3 da lst3 é uma lista\n",
        "print(lst3[3])\n",
        "\n",
        "# alterar posição\n",
        "lst[0] = 8\n",
        "print(lst)"
      ],
      "metadata": {
        "colab": {
          "base_uri": "https://localhost:8080/"
        },
        "id": "ufFpVxQecvtw",
        "outputId": "cc0ad769-8845-4018-ac26-7057820e800b"
      },
      "execution_count": 15,
      "outputs": [
        {
          "output_type": "stream",
          "name": "stdout",
          "text": [
            "8\n",
            "[4, 5, 6]\n",
            "[8, 2, 3, 4, 5]\n"
          ]
        }
      ]
    },
    {
      "cell_type": "code",
      "source": [
        "# percorrendo a lista com for\n",
        "for n in range(0, len(lst4)):\n",
        "    print(lst4[n]+1)"
      ],
      "metadata": {
        "colab": {
          "base_uri": "https://localhost:8080/"
        },
        "id": "-Nvx8n4FdjDK",
        "outputId": "e6a85fe8-96e4-4455-bdfc-7f0a1f95b512"
      },
      "execution_count": 28,
      "outputs": [
        {
          "output_type": "stream",
          "name": "stdout",
          "text": [
            "1\n",
            "2\n",
            "3\n",
            "4\n",
            "5\n",
            "6\n",
            "7\n",
            "8\n",
            "9\n",
            "10\n"
          ]
        }
      ]
    }
  ]
}