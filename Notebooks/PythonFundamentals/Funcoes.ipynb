{
  "nbformat": 4,
  "nbformat_minor": 0,
  "metadata": {
    "colab": {
      "provenance": [],
      "authorship_tag": "ABX9TyN2kSBu7jbZBYIJhrsQqep2",
      "include_colab_link": true
    },
    "kernelspec": {
      "name": "python3",
      "display_name": "Python 3"
    },
    "language_info": {
      "name": "python"
    }
  },
  "cells": [
    {
      "cell_type": "markdown",
      "metadata": {
        "id": "view-in-github",
        "colab_type": "text"
      },
      "source": [
        "<a href=\"https://colab.research.google.com/github/carloscesar182/ai_advanced_course/blob/main/Notebooks/PythonFundamentals/Funcoes.ipynb\" target=\"_parent\"><img src=\"https://colab.research.google.com/assets/colab-badge.svg\" alt=\"Open In Colab\"/></a>"
      ]
    },
    {
      "cell_type": "code",
      "execution_count": 4,
      "metadata": {
        "colab": {
          "base_uri": "https://localhost:8080/"
        },
        "id": "i90zCBh2DEtN",
        "outputId": "a4c628ea-29ef-4a26-c913-b464d4e5eb09"
      },
      "outputs": [
        {
          "output_type": "stream",
          "name": "stdout",
          "text": [
            "Esta é uma função\n"
          ]
        }
      ],
      "source": [
        "# função simples\n",
        "def imprime(): # mesmo que não tenha parametros pra passar, precisa abrir e fechar paranteses\n",
        "  print(\"Esta é uma função\")\n",
        "\n",
        "imprime() # mesmo que não tenha parametros pra passar, precisa abrir e fechar paranteses"
      ]
    },
    {
      "cell_type": "code",
      "source": [
        "# função com parâmetro\n",
        "def imprime(msg):\n",
        "  print(msg)\n",
        "\n",
        "imprime(\"Olá, Mundo!\")"
      ],
      "metadata": {
        "colab": {
          "base_uri": "https://localhost:8080/"
        },
        "id": "iBSEFa4-DSd9",
        "outputId": "6ad5f544-6688-4fe7-b382-4ecb4df401f0"
      },
      "execution_count": 5,
      "outputs": [
        {
          "output_type": "stream",
          "name": "stdout",
          "text": [
            "Olá, Mundo!\n"
          ]
        }
      ]
    },
    {
      "cell_type": "code",
      "source": [
        "# função com retorno\n",
        "def potencia(num):\n",
        "  return num ** 2\n",
        "\n",
        "x = potencia(5)\n",
        "print(x)"
      ],
      "metadata": {
        "colab": {
          "base_uri": "https://localhost:8080/"
        },
        "id": "MhgVrA4jD3Hn",
        "outputId": "f30856bb-4227-4e0e-c337-7113f97308da"
      },
      "execution_count": 8,
      "outputs": [
        {
          "output_type": "stream",
          "name": "stdout",
          "text": [
            "25\n"
          ]
        }
      ]
    },
    {
      "cell_type": "code",
      "source": [
        "# função com valor default\n",
        "def intervalo(inic=1, fim=10):\n",
        "  for inic in range(1, fim+1):\n",
        "    print(inic)\n",
        "\n",
        "intervalo(1, 10)\n",
        "intervalo()"
      ],
      "metadata": {
        "colab": {
          "base_uri": "https://localhost:8080/"
        },
        "id": "a3-ehJLWEEEf",
        "outputId": "e55e8e14-c3eb-429f-a7a5-3c7a7d6e806a"
      },
      "execution_count": 16,
      "outputs": [
        {
          "output_type": "stream",
          "name": "stdout",
          "text": [
            "1\n",
            "2\n",
            "3\n",
            "4\n",
            "5\n",
            "6\n",
            "7\n",
            "8\n",
            "9\n",
            "10\n",
            "1\n",
            "2\n",
            "3\n",
            "4\n",
            "5\n",
            "6\n",
            "7\n",
            "8\n",
            "9\n",
            "10\n"
          ]
        }
      ]
    }
  ]
}