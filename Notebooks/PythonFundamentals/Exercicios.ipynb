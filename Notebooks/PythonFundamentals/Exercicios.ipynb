{
  "nbformat": 4,
  "nbformat_minor": 0,
  "metadata": {
    "colab": {
      "provenance": [],
      "authorship_tag": "ABX9TyNE+8XMcCFKHE05tYGgI4a4",
      "include_colab_link": true
    },
    "kernelspec": {
      "name": "python3",
      "display_name": "Python 3"
    },
    "language_info": {
      "name": "python"
    }
  },
  "cells": [
    {
      "cell_type": "markdown",
      "metadata": {
        "id": "view-in-github",
        "colab_type": "text"
      },
      "source": [
        "<a href=\"https://colab.research.google.com/github/carloscesar182/ai_advanced_course/blob/main/Notebooks/PythonFundamentals/Exercicios.ipynb\" target=\"_parent\"><img src=\"https://colab.research.google.com/assets/colab-badge.svg\" alt=\"Open In Colab\"/></a>"
      ]
    },
    {
      "cell_type": "code",
      "execution_count": 8,
      "metadata": {
        "colab": {
          "base_uri": "https://localhost:8080/"
        },
        "id": "1I9karQFHFn2",
        "outputId": "28f85501-c7bf-4a08-dfb0-1206e7d9f119"
      },
      "outputs": [
        {
          "output_type": "stream",
          "name": "stdout",
          "text": [
            "A amplitude é: 4\n"
          ]
        }
      ],
      "source": [
        "# fazer um programa que tenha uma função chamada amplitude\n",
        "# a função deve receber uma lista e imprimir a amplitude\n",
        "# criar também um código para testar a função\n",
        "def amplitude():\n",
        "  lst = [1, 2, 3, 4, 5]\n",
        "  r = max(lst) - min(lst)\n",
        "  print(f'A amplitude é: {r}')\n",
        "\n",
        "amplitude()"
      ]
    },
    {
      "cell_type": "code",
      "source": [
        "# faça uma função que receba uma string e imprima a string na vertical\n",
        "# dica: uma string do python funciona como uma lista\n",
        "# criar também um código para testar a função\n",
        "def vert():\n",
        "  texto = 'python'\n",
        "  for letra in texto:\n",
        "    print(letra)\n",
        "\n",
        "vert()"
      ],
      "metadata": {
        "colab": {
          "base_uri": "https://localhost:8080/"
        },
        "id": "9MMaMJOWHTH9",
        "outputId": "c0e2d02d-a0ae-4190-8412-8e5f46f180d9"
      },
      "execution_count": 9,
      "outputs": [
        {
          "output_type": "stream",
          "name": "stdout",
          "text": [
            "p\n",
            "y\n",
            "t\n",
            "h\n",
            "o\n",
            "n\n"
          ]
        }
      ]
    },
    {
      "cell_type": "code",
      "source": [
        "# fazer um programa que lê o peso de uma carga em números\n",
        "# se o peso for até 10kg, informar que o valor será 50. entre 11 e 20kg, o valor será 80\n",
        "# se for maior que 20, dizer que o transporte não é aceito.\n",
        "peso = input('Digite o peso da carga: ')\n",
        "peso = float(peso)\n",
        "if peso <= 10:\n",
        "  print(f'Para cargas de até 10kg, o valor é R$50,00. Sua carga é de {peso} kg.')\n",
        "elif peso >= 11 and peso <= 20:\n",
        "  print(f'Para cargas de 11kg até 20kg, o valor é R$80,00. Sua carga é de {peso} kg.')\n",
        "else:\n",
        "  print(f'Não transportamos cargas acima de 20kg. Sua carga é de {peso} kg')"
      ],
      "metadata": {
        "colab": {
          "base_uri": "https://localhost:8080/"
        },
        "id": "wy4bTR60He48",
        "outputId": "392d3d84-818f-4b06-af85-cf565a2b7d01"
      },
      "execution_count": 20,
      "outputs": [
        {
          "output_type": "stream",
          "name": "stdout",
          "text": [
            "Digite o peso da carga: 12\n",
            "Para cargas de 11 até 20kg, o valor é R$80,00. Sua carga é de 12.0 kg.\n"
          ]
        }
      ]
    }
  ]
}