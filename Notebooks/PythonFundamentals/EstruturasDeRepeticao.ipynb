{
  "nbformat": 4,
  "nbformat_minor": 0,
  "metadata": {
    "colab": {
      "provenance": [],
      "authorship_tag": "ABX9TyMLnyIovkEkWDyeYlMwYAeB",
      "include_colab_link": true
    },
    "kernelspec": {
      "name": "python3",
      "display_name": "Python 3"
    },
    "language_info": {
      "name": "python"
    }
  },
  "cells": [
    {
      "cell_type": "markdown",
      "metadata": {
        "id": "view-in-github",
        "colab_type": "text"
      },
      "source": [
        "<a href=\"https://colab.research.google.com/github/carloscesar182/ai_advanced_course/blob/main/Notebooks/PythonFundamentals/EstruturasDeRepeticao.ipynb\" target=\"_parent\"><img src=\"https://colab.research.google.com/assets/colab-badge.svg\" alt=\"Open In Colab\"/></a>"
      ]
    },
    {
      "cell_type": "code",
      "execution_count": null,
      "metadata": {
        "id": "1H3JUn7PYSqe"
      },
      "outputs": [],
      "source": [
        "# exemplo com while\n",
        "count = 1\n",
        "while count <= 5: # laço de verificação\n",
        "  print(count)\n",
        "  count += 1 # incrementa o contador"
      ]
    },
    {
      "cell_type": "code",
      "source": [
        "# exemplo de for com range\n",
        "'''\n",
        "sintaxe: range(0, 10, 1):\n",
        "explicação: range(inicio, parada, incremento)\n",
        "obs1: o incremento é opcional e também pode ser negativo\n",
        "obs2: o python ignora o último valor de intervalos\n",
        "'''\n",
        "# lembrando que o python começa sempre ignora o último valor do range\n",
        "for n in range(0, 10):\n",
        "  print(n)\n",
        "\n",
        "# uma forma de contornar isso seria passando o range já ajustado\n",
        "for n in range(1, 11):\n",
        "  print(n)\n",
        "\n",
        "# ou então somar 1 na variável\n",
        "for n in range(0, 10):\n",
        "  print(n+1)"
      ],
      "metadata": {
        "id": "VjyMggXFY2M0"
      },
      "execution_count": null,
      "outputs": []
    },
    {
      "cell_type": "code",
      "source": [
        "# for decrescente\n",
        "for n in range(10, 0, -1): # inverte o inicio e fim da estrutura do range e passa o incremento negativo\n",
        "  print(n)"
      ],
      "metadata": {
        "id": "glz-BKsIa0ux"
      },
      "execution_count": null,
      "outputs": []
    },
    {
      "cell_type": "code",
      "source": [
        "# invervalo com break\n",
        "# break vai quebrar o laço no resultado da validação do teste lógico\n",
        "for n in range(0, 10):\n",
        "  if n == 6: # faz um teste lógico\n",
        "    break # break quebra o laço\n",
        "  print(n)"
      ],
      "metadata": {
        "id": "56rFHwO6bCoO"
      },
      "execution_count": null,
      "outputs": []
    },
    {
      "cell_type": "code",
      "source": [
        "# invervalo com continue\n",
        "# continue faz pular resultados do teste lógico no laço\n",
        "for n in range(0, 10):\n",
        "  if n == 6:\n",
        "    continue\n",
        "  print(n)"
      ],
      "metadata": {
        "id": "MfuCnOLsbIhJ"
      },
      "execution_count": null,
      "outputs": []
    }
  ]
}