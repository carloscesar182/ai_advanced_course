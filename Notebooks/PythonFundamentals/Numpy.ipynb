{
  "nbformat": 4,
  "nbformat_minor": 0,
  "metadata": {
    "colab": {
      "provenance": [],
      "authorship_tag": "ABX9TyMEK3r53NkhTRGlsOPv+gz0",
      "include_colab_link": true
    },
    "kernelspec": {
      "name": "python3",
      "display_name": "Python 3"
    },
    "language_info": {
      "name": "python"
    }
  },
  "cells": [
    {
      "cell_type": "markdown",
      "metadata": {
        "id": "view-in-github",
        "colab_type": "text"
      },
      "source": [
        "<a href=\"https://colab.research.google.com/github/carloscesar182/ai_advanced_course/blob/main/Notebooks/PythonFundamentals/Numpy.ipynb\" target=\"_parent\"><img src=\"https://colab.research.google.com/assets/colab-badge.svg\" alt=\"Open In Colab\"/></a>"
      ]
    },
    {
      "cell_type": "code",
      "execution_count": 1,
      "metadata": {
        "id": "RjQ7ks88ij4J"
      },
      "outputs": [],
      "source": [
        "# importar a biblioteca\n",
        "import numpy as np"
      ]
    },
    {
      "cell_type": "code",
      "source": [
        "# cria uma matriz unidimensional usando numpy\n",
        "mt = np.array([12, 34, 26, 18, 10]) # parenteses pq estou usando o metodo array do numpy e colchetes pq estou passando um vetor de dados\n",
        "print(mt)\n",
        "print(type(mt))"
      ],
      "metadata": {
        "colab": {
          "base_uri": "https://localhost:8080/"
        },
        "id": "13zJcoyNiq6A",
        "outputId": "a2dbf9c3-9b7d-40cf-f17b-e1eec1f5b80a"
      },
      "execution_count": 3,
      "outputs": [
        {
          "output_type": "stream",
          "name": "stdout",
          "text": [
            "[12 34 26 18 10]\n",
            "<class 'numpy.ndarray'>\n"
          ]
        }
      ]
    },
    {
      "cell_type": "code",
      "source": [
        "# criar o array com um tipo específico (float de 64 bits)\n",
        "mtfloat = np.array([1, 2, 3], dtype = np.float64)\n",
        "print(mtfloat)\n",
        "print(type(mtfloat))\n",
        "\n",
        "# criar o array com int32\n",
        "mtint = np.array([1, 2, 3], dtype = np.int32)\n",
        "print(mtint)\n",
        "print(type(mtint))\n"
      ],
      "metadata": {
        "colab": {
          "base_uri": "https://localhost:8080/"
        },
        "id": "dfq8q-pNjIzP",
        "outputId": "018db68e-0ee1-4699-bb66-43c67d30fd13"
      },
      "execution_count": 4,
      "outputs": [
        {
          "output_type": "stream",
          "name": "stdout",
          "text": [
            "[1. 2. 3.]\n",
            "<class 'numpy.ndarray'>\n",
            "[1 2 3]\n",
            "<class 'numpy.ndarray'>\n"
          ]
        }
      ]
    },
    {
      "cell_type": "code",
      "source": [
        "# mudar o tipo de array\n",
        "# podemos transformar tipos de dados de arrays\n",
        "mtnew = np.array([1.4, 3.6, -5.1, 9.42, 4.999999])\n",
        "print(mtnew)\n",
        "\n",
        "# quando transformamos de float pra int os valores são truncados\n",
        "mtnewint = mtnew.astype(np.int32)\n",
        "print(mtnewint)"
      ],
      "metadata": {
        "colab": {
          "base_uri": "https://localhost:8080/"
        },
        "id": "iyV69CHKjmme",
        "outputId": "5d228e70-cf90-4b8f-c3be-db24cad5c7e2"
      },
      "execution_count": 6,
      "outputs": [
        {
          "output_type": "stream",
          "name": "stdout",
          "text": [
            "[ 1.4       3.6      -5.1       9.42      4.999999]\n",
            "[ 1  3 -5  9  4]\n"
          ]
        }
      ]
    },
    {
      "cell_type": "code",
      "source": [
        "# podemos também fazer o inverso\n",
        "mt5 = np.array([1, 2, 3, 4])\n",
        "print(mt5)\n",
        "mt6 = mt5.astype(float)\n",
        "print(mt6)"
      ],
      "metadata": {
        "colab": {
          "base_uri": "https://localhost:8080/"
        },
        "id": "_F1OUcEvkC8o",
        "outputId": "8e0d667a-a5ad-4f52-9038-d39129020e35"
      },
      "execution_count": 7,
      "outputs": [
        {
          "output_type": "stream",
          "name": "stdout",
          "text": [
            "[1 2 3 4]\n",
            "[1. 2. 3. 4.]\n"
          ]
        }
      ]
    },
    {
      "cell_type": "code",
      "source": [
        "# matrizes bidimensionais do numpy\n",
        "mt7 = np.array([[7, 2, 23], [12, 27, 4], [5, 34, 23]])\n",
        "print(mt7)"
      ],
      "metadata": {
        "colab": {
          "base_uri": "https://localhost:8080/"
        },
        "id": "qwNc-5Q0kNrf",
        "outputId": "456cf808-0ff6-4073-da47-583666420044"
      },
      "execution_count": 8,
      "outputs": [
        {
          "output_type": "stream",
          "name": "stdout",
          "text": [
            "[[ 7  2 23]\n",
            " [12 27  4]\n",
            " [ 5 34 23]]\n"
          ]
        }
      ]
    },
    {
      "cell_type": "code",
      "source": [
        "# criar arrays vazios tipificados\n",
        "# empty significa que não são inicializados, não que são vazios\n",
        "vazio = np.empty([3, 2], dtype = int)\n",
        "print(vazio)\n",
        "print(\"-------\")\n",
        "\n",
        "# criar uma matriz 4x3 com valores 0\n",
        "# numa matriz, o primeiro numero são as linhas e o segundo as colunas\n",
        "zeros = np.zeros([4, 3])\n",
        "print(zeros)\n",
        "print(\"-------\")\n",
        "\n",
        "# com valores igual a 1\n",
        "um = np.ones([5, 7])\n",
        "print(um)\n",
        "print(\"-------\")\n",
        "\n",
        "# criar uma matriz com diagonal principal com valores 1 e outros com valores 0\n",
        "diagonal = np.eye(5)\n",
        "print(diagonal)"
      ],
      "metadata": {
        "colab": {
          "base_uri": "https://localhost:8080/"
        },
        "id": "tOc0itQHkYUO",
        "outputId": "70edad87-7148-4db1-9122-d2d1e59a85ff"
      },
      "execution_count": 10,
      "outputs": [
        {
          "output_type": "stream",
          "name": "stdout",
          "text": [
            "[[      115090931               0]\n",
            " [134938819439792 134938819441584]\n",
            " [134938819440368 134938819454144]]\n",
            "-------\n",
            "[[0. 0. 0.]\n",
            " [0. 0. 0.]\n",
            " [0. 0. 0.]\n",
            " [0. 0. 0.]]\n",
            "-------\n",
            "[[1. 1. 1. 1. 1. 1. 1.]\n",
            " [1. 1. 1. 1. 1. 1. 1.]\n",
            " [1. 1. 1. 1. 1. 1. 1.]\n",
            " [1. 1. 1. 1. 1. 1. 1.]\n",
            " [1. 1. 1. 1. 1. 1. 1.]]\n",
            "-------\n",
            "[[1. 0. 0. 0. 0.]\n",
            " [0. 1. 0. 0. 0.]\n",
            " [0. 0. 1. 0. 0.]\n",
            " [0. 0. 0. 1. 0.]\n",
            " [0. 0. 0. 0. 1.]]\n"
          ]
        }
      ]
    },
    {
      "cell_type": "code",
      "source": [
        "# criar valores aleatórios entre 0 e 1\n",
        "ale = np.random.random((5))\n",
        "print(ale)\n",
        "print(\"-------\")\n",
        "\n",
        "# criar valores aleatórios com distribuição normal contendo negativos\n",
        "ale2 = np.random.randn((5))\n",
        "print(ale2)\n",
        "print(\"-------\")\n",
        "\n",
        "# valores aleatórios 3 x 4\n",
        "ale3 = (10 * np.random.random((3, 4)))\n",
        "print(ale3)\n",
        "print(\"-------\")"
      ],
      "metadata": {
        "colab": {
          "base_uri": "https://localhost:8080/"
        },
        "id": "z9MjHFNOlMMI",
        "outputId": "b425489d-8aca-4127-9dd5-480d3254ab1e"
      },
      "execution_count": 11,
      "outputs": [
        {
          "output_type": "stream",
          "name": "stdout",
          "text": [
            "[0.26525164 0.3233141  0.00708441 0.06980695 0.30511276]\n",
            "-------\n",
            "[-1.09968001 -0.18811237  0.1532894  -0.91470553  1.0553154 ]\n",
            "-------\n",
            "[[5.87999547 5.13246006 0.41733085 5.1051081 ]\n",
            " [5.74341909 2.79782736 9.41958192 0.44526087]\n",
            " [8.37039606 7.49836789 4.90255788 1.75876628]]\n",
            "-------\n"
          ]
        }
      ]
    },
    {
      "cell_type": "code",
      "source": [
        "# outras formas de gerar valores aleatórios\n",
        "# uso de sementes\n",
        "gnr = np.random.default_rng(1)\n",
        "ale5 = gnr.random(3)\n",
        "print(ale5)\n",
        "\n",
        "# gerar inteiros\n",
        "ale6 = gnr.integers(10, size = (3, 4)) # gera inteiros até 10 numa matriz de 3 linhas e 4 colunas\n",
        "print(ale6)"
      ],
      "metadata": {
        "colab": {
          "base_uri": "https://localhost:8080/"
        },
        "id": "yPWsml4ZlpOY",
        "outputId": "49ef79a5-9122-4316-a3e2-bf2e0488ad09"
      },
      "execution_count": 12,
      "outputs": [
        {
          "output_type": "stream",
          "name": "stdout",
          "text": [
            "[0.51182162 0.9504637  0.14415961]\n",
            "[[8 9 2 3]\n",
            " [8 4 2 8]\n",
            " [2 4 6 5]]\n"
          ]
        }
      ]
    },
    {
      "cell_type": "code",
      "source": [
        "# unique remove repetições\n",
        "j = np.array([11,12,13,14,15,16,17,12,13,11,18,19,20])\n",
        "j = np.unique(j)\n",
        "print(j)"
      ],
      "metadata": {
        "colab": {
          "base_uri": "https://localhost:8080/"
        },
        "id": "Et7SlgS-mIxY",
        "outputId": "edc27aa0-d802-4721-f298-afd36d9383bc"
      },
      "execution_count": 13,
      "outputs": [
        {
          "output_type": "stream",
          "name": "stdout",
          "text": [
            "[11 12 13 14 15 16 17 18 19 20]\n"
          ]
        }
      ]
    },
    {
      "cell_type": "code",
      "source": [
        "# funções específicas\n",
        "# cria a matriz bidimensional k\n",
        "k = np.array([[17,22,43], [27,25,14], [15,24,32]])\n",
        "\n",
        "# mostra a matriz k\n",
        "print(k)\n",
        "\n",
        "# mostra um elemento específico da matriz k\n",
        "print(k[0][1]) # elemento [0] é a linha, [1] é a coluna\n",
        "\n",
        "# mostra o tamanho das dimensões da matriz k\n",
        "print(k.shape)"
      ],
      "metadata": {
        "colab": {
          "base_uri": "https://localhost:8080/"
        },
        "id": "otLarTiEmjDB",
        "outputId": "badd355f-912a-45e8-9c8e-92c15cb6db5c"
      },
      "execution_count": 14,
      "outputs": [
        {
          "output_type": "stream",
          "name": "stdout",
          "text": [
            "[[17 22 43]\n",
            " [27 25 14]\n",
            " [15 24 32]]\n",
            "22\n",
            "(3, 3)\n"
          ]
        }
      ]
    },
    {
      "cell_type": "code",
      "source": [
        "# funções matemáticas\n",
        "# mostra o maior valor da matriz k\n",
        "print(k.max())\n",
        "\n",
        "# mostra o menor valor da matriz k\n",
        "print(k.min())\n",
        "\n",
        "# mostra a soma dos valores da matriz k\n",
        "print(k.sum())\n",
        "\n",
        "# mostra o valor da média dos valores da matriz k\n",
        "print(k.mean())\n",
        "\n",
        "# mostra o valor do desvio padrão (std - standard deviation) dos valores da matriz k\n",
        "print(k.std())"
      ],
      "metadata": {
        "colab": {
          "base_uri": "https://localhost:8080/"
        },
        "id": "fT1qaqpsnHGY",
        "outputId": "5f2ee62f-dab1-4b78-e5c9-79848c2119d6"
      },
      "execution_count": 15,
      "outputs": [
        {
          "output_type": "stream",
          "name": "stdout",
          "text": [
            "43\n",
            "14\n",
            "219\n",
            "24.333333333333332\n",
            "8.615231988880057\n"
          ]
        }
      ]
    },
    {
      "cell_type": "code",
      "source": [
        "# funções universais aplicadas a todos os elementos\n",
        "# mostra o valor da raiz quadrada de todos os elementos\n",
        "k1 = np.array([1, 4, 9, 16, 25, 36])\n",
        "print(np.sqrt(k1))\n",
        "\n",
        "# mostra o valor do exponencial de todos os elementos\n",
        "print(np.exp(k1))"
      ],
      "metadata": {
        "colab": {
          "base_uri": "https://localhost:8080/"
        },
        "id": "t8WmmKBJnikQ",
        "outputId": "c7edfc0f-b26d-44d7-8f7d-495ee4883d22"
      },
      "execution_count": 18,
      "outputs": [
        {
          "output_type": "stream",
          "name": "stdout",
          "text": [
            "[1. 2. 3. 4. 5. 6.]\n",
            "[2.71828183e+00 5.45981500e+01 8.10308393e+03 8.88611052e+06\n",
            " 7.20048993e+10 4.31123155e+15]\n"
          ]
        }
      ]
    },
    {
      "cell_type": "code",
      "source": [
        "# extração de elementos\n",
        "m = np.array([1, 2, 3, 4, 5, 6])\n",
        "\n",
        "# mostra o elemento na posição 2\n",
        "print(m[1])\n",
        "print(\"-------\")\n",
        "\n",
        "# mostra o array criado a partir da posição 0, dois elementos\n",
        "print(m[0:2])\n",
        "print(\"-------\")\n",
        "\n",
        "# mostra o array criado a partir da 2a posição até todo o restante do array\n",
        "print(m[1:])\n",
        "print(\"-------\")\n",
        "\n",
        "# mostra o array criado a partir do antipenultimo até o final\n",
        "print(m[-3:])"
      ],
      "metadata": {
        "colab": {
          "base_uri": "https://localhost:8080/"
        },
        "id": "VxuOVuLun5e-",
        "outputId": "0f7ac133-1beb-44e6-e7a6-c66d4b0395c8"
      },
      "execution_count": 21,
      "outputs": [
        {
          "output_type": "stream",
          "name": "stdout",
          "text": [
            "2\n",
            "-------\n",
            "[1 2]\n",
            "-------\n",
            "[2 3 4 5 6]\n",
            "-------\n",
            "[4 5 6]\n"
          ]
        }
      ]
    },
    {
      "cell_type": "code",
      "source": [
        "# extração de linhas e colunas\n",
        "l = np.array([[4, 5], [6, 1], [7, 4]])\n",
        "print(l)\n",
        "print(\"-------\")\n",
        "\n",
        "# primeiro linha, todas as colunas\n",
        "l_linha_1 = l[0, :]\n",
        "print(l_linha_1)\n",
        "print(\"-------\")\n",
        "\n",
        "# segunda linha\n",
        "l_linha_2 = l[1, :]\n",
        "print(l_linha_2)\n",
        "print(\"-------\")\n",
        "\n",
        "# terceira linha\n",
        "l_linha_3 = l[2, :]\n",
        "print(l_linha_3)\n",
        "print(\"-------\")\n",
        "\n",
        "# todas as linhas, primeira coluna\n",
        "l_coluna_1 = l[:, 0]\n",
        "print(l_coluna_1)\n",
        "print(\"-------\")\n",
        "\n",
        "# todas as linhas, segunda coluna\n",
        "l_coluna_2 = l[:, 1]\n",
        "print(l_coluna_2)"
      ],
      "metadata": {
        "colab": {
          "base_uri": "https://localhost:8080/"
        },
        "id": "ngcCIJbfo1WQ",
        "outputId": "bb7eb212-44cb-4799-eea9-96f22a48d22f"
      },
      "execution_count": 23,
      "outputs": [
        {
          "output_type": "stream",
          "name": "stdout",
          "text": [
            "[[4 5]\n",
            " [6 1]\n",
            " [7 4]]\n",
            "-------\n",
            "[4 5]\n",
            "-------\n",
            "[6 1]\n",
            "-------\n",
            "[7 4]\n",
            "-------\n",
            "[4 6 7]\n",
            "-------\n",
            "[5 1 4]\n"
          ]
        }
      ]
    },
    {
      "cell_type": "code",
      "source": [
        "# adição e multiplicação de matrizes\n",
        "n = np.array([[1, 2], [3, 4]])\n",
        "o = np.array([[1, 1], [1, 1]])\n",
        "\n",
        "res1 = n+0\n",
        "print(res1)\n",
        "print(\"-------\")\n",
        "\n",
        "res2 = n*0\n",
        "print(res2)\n",
        "print(\"-------\")\n",
        "\n",
        "p = np.array([[1, 2], [3, 4], [5, 6]])\n",
        "q = np.array([[2, 1]])\n",
        "res3 = p+q\n",
        "print(res3)"
      ],
      "metadata": {
        "colab": {
          "base_uri": "https://localhost:8080/"
        },
        "id": "5UMUnMy0pexw",
        "outputId": "f8170a59-7343-4d79-81f7-4fba1b237eec"
      },
      "execution_count": 30,
      "outputs": [
        {
          "output_type": "stream",
          "name": "stdout",
          "text": [
            "[[1 2]\n",
            " [3 4]]\n",
            "-------\n",
            "[[0 0]\n",
            " [0 0]]\n",
            "-------\n",
            "[[3 3]\n",
            " [5 5]\n",
            " [7 7]]\n"
          ]
        }
      ]
    },
    {
      "cell_type": "code",
      "source": [
        "# transposição (pivotar)\n",
        "# muda o arranjo de uma matriz\n",
        "f = np.arange(15).reshape((3, 5))\n",
        "\n",
        "# mostra a matriz transposta entre linha e coluna\n",
        "print(f)\n",
        "print(\"-------\")\n",
        "s = f.T # método T faz a transposição\n",
        "print(s)\n",
        "print(\"-------\")\n",
        "\n",
        "# outra forma de fazer usando o método transpose\n",
        "r = np.arange(10).reshape((2, 5))\n",
        "print(r)\n",
        "print(\"-------\")\n",
        "s = r.transpose((1, 0))\n",
        "print(s)"
      ],
      "metadata": {
        "colab": {
          "base_uri": "https://localhost:8080/"
        },
        "id": "k6b-3wuGqiCA",
        "outputId": "3604b366-8ce0-4c3d-adfa-53c7de409973"
      },
      "execution_count": 40,
      "outputs": [
        {
          "output_type": "stream",
          "name": "stdout",
          "text": [
            "[[ 0  1  2  3  4]\n",
            " [ 5  6  7  8  9]\n",
            " [10 11 12 13 14]]\n",
            "-------\n",
            "[[ 0  5 10]\n",
            " [ 1  6 11]\n",
            " [ 2  7 12]\n",
            " [ 3  8 13]\n",
            " [ 4  9 14]]\n",
            "-------\n",
            "[[0 1 2 3 4]\n",
            " [5 6 7 8 9]]\n",
            "-------\n",
            "[[0 5]\n",
            " [1 6]\n",
            " [2 7]\n",
            " [3 8]\n",
            " [4 9]]\n"
          ]
        }
      ]
    },
    {
      "cell_type": "code",
      "source": [
        "# expressões lógicas\n",
        "# usando where\n",
        "\n",
        "# criar uma matriz aleatória com valores positivos e negativos\n",
        "v = np.random.randn(4, 4)\n",
        "print(v)\n",
        "\n",
        "# criar uma matriz com valores booleanos baseado no array v\n",
        "x = (v > 0) # aqui já dá True ou False pq x recebeu um valor de teste lógico\n",
        "print(x)\n",
        "\n",
        "# criar uma matriz com valores -1 e 1 baseado nos valores do array x\n",
        "z = np.where(x > 0, 1, -1)\n",
        "print(z)"
      ],
      "metadata": {
        "colab": {
          "base_uri": "https://localhost:8080/"
        },
        "id": "OaA9UZo-sHhH",
        "outputId": "fa65f230-7610-4ce9-c7e1-b8310aae3cf5"
      },
      "execution_count": 42,
      "outputs": [
        {
          "output_type": "stream",
          "name": "stdout",
          "text": [
            "[[ 0.6174008  -2.64983958 -1.14042237  1.22039752]\n",
            " [ 0.71730067  0.99864739 -0.73174857  0.28568728]\n",
            " [-1.91700893  0.61687086 -0.46704194 -1.25768791]\n",
            " [-0.73967661 -0.58381335  1.93159243  0.85993955]]\n",
            "[[ True False False  True]\n",
            " [ True  True False  True]\n",
            " [False  True False False]\n",
            " [False False  True  True]]\n",
            "[[ 1 -1 -1  1]\n",
            " [ 1  1 -1  1]\n",
            " [-1  1 -1 -1]\n",
            " [-1 -1  1  1]]\n"
          ]
        }
      ]
    }
  ]
}