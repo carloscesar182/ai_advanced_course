{
  "nbformat": 4,
  "nbformat_minor": 0,
  "metadata": {
    "colab": {
      "provenance": [],
      "authorship_tag": "ABX9TyPWVAI7xyZPAjFH+vpwpWxo",
      "include_colab_link": true
    },
    "kernelspec": {
      "name": "python3",
      "display_name": "Python 3"
    },
    "language_info": {
      "name": "python"
    }
  },
  "cells": [
    {
      "cell_type": "markdown",
      "metadata": {
        "id": "view-in-github",
        "colab_type": "text"
      },
      "source": [
        "<a href=\"https://colab.research.google.com/github/carloscesar182/ai_advanced_course/blob/main/Notebooks/PythonFundamentals/ModulosEPacotes.ipynb\" target=\"_parent\"><img src=\"https://colab.research.google.com/assets/colab-badge.svg\" alt=\"Open In Colab\"/></a>"
      ]
    },
    {
      "cell_type": "code",
      "execution_count": 1,
      "metadata": {
        "colab": {
          "base_uri": "https://localhost:8080/"
        },
        "id": "GVb8c53X1Xsm",
        "outputId": "70961eed-28bf-4229-b0c3-2375d7121876"
      },
      "outputs": [
        {
          "output_type": "stream",
          "name": "stdout",
          "text": [
            "25\n",
            "25.0\n"
          ]
        }
      ],
      "source": [
        "# importação simples\n",
        "import statistics\n",
        "z = [10, 20, 30, 40]\n",
        "x = statistics.mean(z) # preciso sempre passar o nome do módulo\n",
        "y = statistics.median(z)\n",
        "print(x)\n",
        "print(y)"
      ]
    },
    {
      "cell_type": "code",
      "source": [
        "# outra forma comum é passar um alias para o módulo\n",
        "import statistics as s\n",
        "x = s.mean(z) # só preciso passar o alias e função\n",
        "y = s.median(z)\n",
        "print(x)\n",
        "print(y)"
      ],
      "metadata": {
        "colab": {
          "base_uri": "https://localhost:8080/"
        },
        "id": "DepH-Q633se2",
        "outputId": "352c0fbd-87c0-40b1-d191-63eaa4572081"
      },
      "execution_count": 2,
      "outputs": [
        {
          "output_type": "stream",
          "name": "stdout",
          "text": [
            "25\n",
            "25.0\n"
          ]
        }
      ]
    },
    {
      "cell_type": "code",
      "source": [
        "# outra forma é deixar explícito as funções do módulo que vamos importar\n",
        "from statistics import mean, median\n",
        "x = mean(z) # só preciso passar a função diretamente\n",
        "y = median(z)\n",
        "print(x)\n",
        "print(y)"
      ],
      "metadata": {
        "colab": {
          "base_uri": "https://localhost:8080/"
        },
        "id": "6SyQTjVd39Tf",
        "outputId": "b269412f-2034-48b0-971e-57998bc8e983"
      },
      "execution_count": 3,
      "outputs": [
        {
          "output_type": "stream",
          "name": "stdout",
          "text": [
            "25\n",
            "25.0\n"
          ]
        }
      ]
    },
    {
      "cell_type": "code",
      "source": [
        "# outra forma é importar todas as funções do módulo.\n",
        "# Pode ter bibliotecas com nomes conflitantes em outros módulos importados\n",
        "from statistics import *\n",
        "x = mean(z) # também posso passar a função diretamente\n",
        "y = median(z)\n",
        "print(x)\n",
        "print(y)"
      ],
      "metadata": {
        "colab": {
          "base_uri": "https://localhost:8080/"
        },
        "id": "sea6ufyy4Mcd",
        "outputId": "10ce940b-9c17-414d-f43a-580dd360aebd"
      },
      "execution_count": 4,
      "outputs": [
        {
          "output_type": "stream",
          "name": "stdout",
          "text": [
            "25\n",
            "25.0\n"
          ]
        }
      ]
    }
  ]
}