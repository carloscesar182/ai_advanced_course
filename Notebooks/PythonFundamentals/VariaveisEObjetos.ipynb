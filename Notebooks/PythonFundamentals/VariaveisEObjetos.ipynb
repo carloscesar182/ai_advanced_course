{
  "nbformat": 4,
  "nbformat_minor": 0,
  "metadata": {
    "colab": {
      "provenance": [],
      "authorship_tag": "ABX9TyM4upVbmFjH9MeErBK9GhKC",
      "include_colab_link": true
    },
    "kernelspec": {
      "name": "python3",
      "display_name": "Python 3"
    },
    "language_info": {
      "name": "python"
    }
  },
  "cells": [
    {
      "cell_type": "markdown",
      "metadata": {
        "id": "view-in-github",
        "colab_type": "text"
      },
      "source": [
        "<a href=\"https://colab.research.google.com/github/carloscesar182/ai_advanced_course/blob/main/Notebooks/PythonFundamentals/VariaveisEObjetos.ipynb\" target=\"_parent\"><img src=\"https://colab.research.google.com/assets/colab-badge.svg\" alt=\"Open In Colab\"/></a>"
      ]
    },
    {
      "cell_type": "code",
      "execution_count": 6,
      "metadata": {
        "colab": {
          "base_uri": "https://localhost:8080/"
        },
        "id": "pGU-Kbo5SRhV",
        "outputId": "1018f0c9-42e3-4f70-ec4c-5bf374a51af4"
      },
      "outputs": [
        {
          "output_type": "stream",
          "name": "stdout",
          "text": [
            "1\n",
            "3.14\n",
            "Python\n",
            "True\n",
            "False\n"
          ]
        }
      ],
      "source": [
        "# cria variável do tipo inteiro\n",
        "x = 1\n",
        "print(x)\n",
        "\n",
        "# cria variável do tipo float\n",
        "y = 3.14\n",
        "print(y)\n",
        "\n",
        "# cria variável do tipo string\n",
        "m = \"Python\"\n",
        "m = 'Python'\n",
        "print(m)\n",
        "\n",
        "# cria variável do tipo lógica\n",
        "w = True\n",
        "v = False\n",
        "print(w)\n",
        "print(v)"
      ]
    },
    {
      "cell_type": "code",
      "source": [
        "# calculadora\n",
        "x = 10\n",
        "y = 20\n",
        "z = 100\n",
        "w = (x + y) * z / 100\n",
        "print(w)"
      ],
      "metadata": {
        "colab": {
          "base_uri": "https://localhost:8080/"
        },
        "id": "aWW7_PVXTGey",
        "outputId": "61b815de-6cbc-4b53-fd53-48c04171d09d"
      },
      "execution_count": 7,
      "outputs": [
        {
          "output_type": "stream",
          "name": "stdout",
          "text": [
            "30.0\n"
          ]
        }
      ]
    },
    {
      "cell_type": "code",
      "source": [
        "# exibir texto no console\n",
        "print(\"Este texto será exibido no console\")\n",
        "print(x)\n",
        "print(\"Texto e duas variáveis: \", x,\", \", z)"
      ],
      "metadata": {
        "colab": {
          "base_uri": "https://localhost:8080/"
        },
        "id": "kH-GTg5ETL8B",
        "outputId": "3974031d-c844-4959-aece-87af7bca6202"
      },
      "execution_count": 12,
      "outputs": [
        {
          "output_type": "stream",
          "name": "stdout",
          "text": [
            "Este texto será exibido no console\n",
            "10\n",
            "Texto e duas variáveis:  10 ,  100\n"
          ]
        }
      ]
    },
    {
      "cell_type": "code",
      "source": [
        "# verificar tipo\n",
        "print(type(x))\n",
        "print(type(m))\n",
        "print(type(v))\n",
        "print(type(w))"
      ],
      "metadata": {
        "colab": {
          "base_uri": "https://localhost:8080/"
        },
        "id": "xankdKHTTQAw",
        "outputId": "2085c0dd-e3d6-4d0d-9b64-dae58a49df5b"
      },
      "execution_count": 15,
      "outputs": [
        {
          "output_type": "stream",
          "name": "stdout",
          "text": [
            "<class 'int'>\n",
            "<class 'str'>\n",
            "<class 'bool'>\n",
            "<class 'float'>\n"
          ]
        }
      ]
    },
    {
      "cell_type": "code",
      "source": [
        "# entrada de dados\n",
        "i = input(\"Informe um valor: \")\n",
        "print(f\"O valor informado é {i} e o tipo é {type(i)}\")"
      ],
      "metadata": {
        "colab": {
          "base_uri": "https://localhost:8080/"
        },
        "id": "VtW7BtvGTouF",
        "outputId": "6c3066de-630d-4ae0-b556-1f7c46af3976"
      },
      "execution_count": 22,
      "outputs": [
        {
          "output_type": "stream",
          "name": "stdout",
          "text": [
            "Informe um valor: 10\n",
            "O valor informado é 10 e o tipo é <class 'str'>\n"
          ]
        }
      ]
    },
    {
      "cell_type": "code",
      "source": [
        "# conversão de valores\n",
        "# para inteiros\n",
        "var = input(\"Informe um valor inteiro: \")\n",
        "print(f\"O valor informado é {var} e o tipo é {type(var)}\")\n",
        "var = int(var)\n",
        "print(f\"O valor informado {var} foi convertido para o tipo {type(var)}\")\n",
        "\n",
        "# para float\n",
        "var = input(\"Informe um valor float: \")\n",
        "print(f\"O valor informado é {var} e o tipo é {type(var)}\")\n",
        "var = float(var)\n",
        "print(f\"O valor informado {var} foi convertido para o tipo {type(var)}\")"
      ],
      "metadata": {
        "colab": {
          "base_uri": "https://localhost:8080/"
        },
        "id": "ePlneEuDUE_x",
        "outputId": "caf30a21-9f1d-4b96-fd43-435629a3dac7"
      },
      "execution_count": 27,
      "outputs": [
        {
          "output_type": "stream",
          "name": "stdout",
          "text": [
            "Informe um valor inteiro: 10\n",
            "O valor informado é 10 e o tipo é <class 'str'>\n",
            "O valor informado 10 foi convertido para o tipo <class 'int'>\n",
            "Informe um valor float: 20.2\n",
            "O valor informado é 20.2 e o tipo é <class 'str'>\n",
            "O valor informado 20.2 foi convertido para o tipo <class 'float'>\n"
          ]
        }
      ]
    }
  ]
}