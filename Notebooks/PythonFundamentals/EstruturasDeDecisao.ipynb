{
  "nbformat": 4,
  "nbformat_minor": 0,
  "metadata": {
    "colab": {
      "provenance": [],
      "authorship_tag": "ABX9TyPpy9WqczGAiR6dKMqp3yM5",
      "include_colab_link": true
    },
    "kernelspec": {
      "name": "python3",
      "display_name": "Python 3"
    },
    "language_info": {
      "name": "python"
    }
  },
  "cells": [
    {
      "cell_type": "markdown",
      "metadata": {
        "id": "view-in-github",
        "colab_type": "text"
      },
      "source": [
        "<a href=\"https://colab.research.google.com/github/carloscesar182/ai_advanced_course/blob/main/Notebooks/PythonFundamentals/EstruturasDeDecisao.ipynb\" target=\"_parent\"><img src=\"https://colab.research.google.com/assets/colab-badge.svg\" alt=\"Open In Colab\"/></a>"
      ]
    },
    {
      "cell_type": "code",
      "execution_count": 1,
      "metadata": {
        "colab": {
          "base_uri": "https://localhost:8080/"
        },
        "id": "nK-6djTsV_TF",
        "outputId": "890f546a-be18-43c7-c678-67ba24682276"
      },
      "outputs": [
        {
          "output_type": "stream",
          "name": "stdout",
          "text": [
            "Aprovado com a nota 7. \n",
            "Parabéns!\n",
            "Fim\n"
          ]
        }
      ],
      "source": [
        "# estruturas de decisão\n",
        "nota = 7\n",
        "if nota >= 7:\n",
        "    print(f'Aprovado com a nota {nota}. \\nParabéns!')\n",
        "else:\n",
        "    print('Reprovado')\n",
        "print('Fim')"
      ]
    },
    {
      "cell_type": "code",
      "source": [
        "# passando uma nota com input pra saber se foi aprovado ou reprovado\n",
        "nota = float(input('Digite a nota do aluno: '))\n",
        "if nota >= 7:\n",
        "    print(f'Aprovado com a nota {nota}. \\nParabéns!')\n",
        "else:\n",
        "    print(f'Reprovado com a nota {nota}! Estude um pouco mais.')"
      ],
      "metadata": {
        "colab": {
          "base_uri": "https://localhost:8080/"
        },
        "id": "i70_IMJlWcrg",
        "outputId": "773c8ce0-da19-4276-ad66-4dd6974fba84"
      },
      "execution_count": 2,
      "outputs": [
        {
          "output_type": "stream",
          "name": "stdout",
          "text": [
            "Digite a nota do aluno: 2\n",
            "Reprovado! Estude um pouco mais.\n"
          ]
        }
      ]
    },
    {
      "cell_type": "code",
      "source": [
        "# passando uma nota com input, verificando se foi reprovado, se ficou pra recuperação ou se passou direto\n",
        "nota = float(input('Digite a nota do aluno: '))\n",
        "if nota < 5:\n",
        "    print(f'Reprovado com a nota {nota}! Estude mais e refaça o teste.')\n",
        "elif nota >= 5 and nota < 7:\n",
        "    print(f'Recuperação com a nota {nota}. Estude um pouco mais.')\n",
        "else:\n",
        "    print(f'Aprovado com a nota {nota}. Parabéns!')"
      ],
      "metadata": {
        "colab": {
          "base_uri": "https://localhost:8080/"
        },
        "id": "UB40HBkyWn7w",
        "outputId": "f0c7ab37-767b-4ab2-d442-e4cae4cf8487"
      },
      "execution_count": 3,
      "outputs": [
        {
          "output_type": "stream",
          "name": "stdout",
          "text": [
            "Digite a nota do aluno: 7\n",
            "Aprovado com a nota 7.0. Parabéns!\n"
          ]
        }
      ]
    }
  ]
}