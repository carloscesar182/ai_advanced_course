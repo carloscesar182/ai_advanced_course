{
  "nbformat": 4,
  "nbformat_minor": 0,
  "metadata": {
    "colab": {
      "provenance": [],
      "authorship_tag": "ABX9TyNvA1Eqr60qGTyuK8WY0Mwb",
      "include_colab_link": true
    },
    "kernelspec": {
      "name": "python3",
      "display_name": "Python 3"
    },
    "language_info": {
      "name": "python"
    }
  },
  "cells": [
    {
      "cell_type": "markdown",
      "metadata": {
        "id": "view-in-github",
        "colab_type": "text"
      },
      "source": [
        "<a href=\"https://colab.research.google.com/github/carloscesar182/ai_advanced_course/blob/main/Notebooks/PythonFundamentals/DicionariosSetsTuplas.ipynb\" target=\"_parent\"><img src=\"https://colab.research.google.com/assets/colab-badge.svg\" alt=\"Open In Colab\"/></a>"
      ]
    },
    {
      "cell_type": "code",
      "execution_count": 3,
      "metadata": {
        "colab": {
          "base_uri": "https://localhost:8080/"
        },
        "id": "AQecpxyFeo57",
        "outputId": "47d46219-8d2d-4f01-cbf9-548f1ee41d6c"
      },
      "outputs": [
        {
          "output_type": "stream",
          "name": "stdout",
          "text": [
            "{'João': 6.0, 'Maria': 8.0, 'Pedro': 6.5}\n",
            "6.0\n"
          ]
        }
      ],
      "source": [
        "# dicionários: estrutura chave:valor\n",
        "Notas = {'João': 6.0, 'Maria': 8.0, 'Pedro': 6.5}\n",
        "print(Notas)\n",
        "print(Notas['João'])"
      ]
    },
    {
      "cell_type": "code",
      "source": [
        "# todas as chaves\n",
        "Notas.keys()"
      ],
      "metadata": {
        "colab": {
          "base_uri": "https://localhost:8080/"
        },
        "id": "4yT3HOeFfYZR",
        "outputId": "9bdd91f8-5963-4d30-8e46-bd2f72fefc51"
      },
      "execution_count": 4,
      "outputs": [
        {
          "output_type": "execute_result",
          "data": {
            "text/plain": [
              "dict_keys(['João', 'Maria', 'Pedro'])"
            ]
          },
          "metadata": {},
          "execution_count": 4
        }
      ]
    },
    {
      "cell_type": "code",
      "source": [
        "# todos os valores\n",
        "Notas.values()"
      ],
      "metadata": {
        "colab": {
          "base_uri": "https://localhost:8080/"
        },
        "id": "y6EukYcBfa3h",
        "outputId": "eb27b050-c559-4cf7-b347-eeb25c3484f3"
      },
      "execution_count": 5,
      "outputs": [
        {
          "output_type": "execute_result",
          "data": {
            "text/plain": [
              "dict_values([6.0, 8.0, 6.5])"
            ]
          },
          "metadata": {},
          "execution_count": 5
        }
      ]
    },
    {
      "cell_type": "code",
      "source": [
        "# testa logicamente a existência\n",
        "print('João' in Notas)\n",
        "print('Fernando' in Notas)"
      ],
      "metadata": {
        "colab": {
          "base_uri": "https://localhost:8080/"
        },
        "id": "P6zKKdsLfc2J",
        "outputId": "09827801-eaa8-4ed3-fc32-1a4a1838f1ca"
      },
      "execution_count": 6,
      "outputs": [
        {
          "output_type": "stream",
          "name": "stdout",
          "text": [
            "True\n",
            "False\n"
          ]
        }
      ]
    },
    {
      "cell_type": "code",
      "source": [
        "# deleta um valor\n",
        "del Notas['João']\n",
        "print(Notas)"
      ],
      "metadata": {
        "colab": {
          "base_uri": "https://localhost:8080/"
        },
        "id": "nkEQexm_ffxI",
        "outputId": "b88af2f4-ab54-4f20-d2b6-d2e4bbed8e9c"
      },
      "execution_count": 7,
      "outputs": [
        {
          "output_type": "stream",
          "name": "stdout",
          "text": [
            "{'Maria': 8.0, 'Pedro': 6.5}\n"
          ]
        }
      ]
    },
    {
      "cell_type": "code",
      "source": [
        "# inclui um elemento\n",
        "Notas['Ana'] = 9\n",
        "print(Notas)"
      ],
      "metadata": {
        "colab": {
          "base_uri": "https://localhost:8080/"
        },
        "id": "AdcaRDHBfpSg",
        "outputId": "04936af0-a9d7-44a4-be38-995b88e8390d"
      },
      "execution_count": 15,
      "outputs": [
        {
          "output_type": "stream",
          "name": "stdout",
          "text": [
            "{'Maria': 8.0, 'Pedro': 6.5, 'Ana': 9}\n"
          ]
        }
      ]
    },
    {
      "cell_type": "code",
      "source": [
        "# update no valor da chave\n",
        "Notas.update({'Ana': 9})\n",
        "print(Notas)"
      ],
      "metadata": {
        "colab": {
          "base_uri": "https://localhost:8080/"
        },
        "id": "LoAX9-KhfwWY",
        "outputId": "d2d25ddc-0907-4c96-9846-e41af282faf7"
      },
      "execution_count": 11,
      "outputs": [
        {
          "output_type": "stream",
          "name": "stdout",
          "text": [
            "{'Maria': 8.0, 'Pedro': 6.5, 'Ana': 9}\n"
          ]
        }
      ]
    },
    {
      "cell_type": "code",
      "source": [
        "# busca um valor. Se não encontrar, mostra um segundo parametro\n",
        "Notas.get('Simone', 'Não encontrado!')"
      ],
      "metadata": {
        "colab": {
          "base_uri": "https://localhost:8080/",
          "height": 35
        },
        "id": "PpY7CvjogBjY",
        "outputId": "0c8fe7c6-983a-4354-f7c5-6a60fc212538"
      },
      "execution_count": 13,
      "outputs": [
        {
          "output_type": "execute_result",
          "data": {
            "text/plain": [
              "'Não encontrado!'"
            ],
            "application/vnd.google.colaboratory.intrinsic+json": {
              "type": "string"
            }
          },
          "metadata": {},
          "execution_count": 13
        }
      ]
    },
    {
      "cell_type": "code",
      "source": [
        "# sets\n",
        "#são conjuntos não ordenados de elementos não repetidos\n",
        "bigdata = {'Spark', 'Hive', 'Sqoop'}\n",
        "print(bigdata)"
      ],
      "metadata": {
        "colab": {
          "base_uri": "https://localhost:8080/"
        },
        "id": "eh3kOQ2wgVzo",
        "outputId": "c33d261d-3808-40e0-cd88-a8a9fa7b7853"
      },
      "execution_count": 16,
      "outputs": [
        {
          "output_type": "stream",
          "name": "stdout",
          "text": [
            "{'Spark', 'Sqoop', 'Hive'}\n"
          ]
        }
      ]
    },
    {
      "cell_type": "code",
      "source": [
        "# verifica existência\n",
        "print('Spark' in bigdata)"
      ],
      "metadata": {
        "colab": {
          "base_uri": "https://localhost:8080/"
        },
        "id": "zV1pIyjAgeGx",
        "outputId": "4847e007-eb76-42e0-c117-a805116fd37f"
      },
      "execution_count": 17,
      "outputs": [
        {
          "output_type": "stream",
          "name": "stdout",
          "text": [
            "True\n"
          ]
        }
      ]
    },
    {
      "cell_type": "code",
      "source": [
        "# adiciona elemento\n",
        "bigdata.add('Hadoop')\n",
        "bigdata"
      ],
      "metadata": {
        "colab": {
          "base_uri": "https://localhost:8080/"
        },
        "id": "KxlG60PBgjBe",
        "outputId": "0f1cfea8-549f-4b99-8209-10a80ab5537c"
      },
      "execution_count": 18,
      "outputs": [
        {
          "output_type": "execute_result",
          "data": {
            "text/plain": [
              "{'Hadoop', 'Hive', 'Spark', 'Sqoop'}"
            ]
          },
          "metadata": {},
          "execution_count": 18
        }
      ]
    },
    {
      "cell_type": "code",
      "source": [
        "# número de elementos\n",
        "print(len(bigdata))"
      ],
      "metadata": {
        "colab": {
          "base_uri": "https://localhost:8080/"
        },
        "id": "pRNwDMe1grOv",
        "outputId": "dc9264ae-a3fb-42ae-a72f-5d7feaafe261"
      },
      "execution_count": 19,
      "outputs": [
        {
          "output_type": "stream",
          "name": "stdout",
          "text": [
            "4\n"
          ]
        }
      ]
    },
    {
      "cell_type": "code",
      "source": [
        "# adicionar um elemento repetido\n",
        "bigdata.add('Spark') # não vai adicionar e nem gerar erro pq a natureza dos sets já trata isso\n",
        "bigdata"
      ],
      "metadata": {
        "colab": {
          "base_uri": "https://localhost:8080/"
        },
        "id": "vhmrYQ0YgxQP",
        "outputId": "306b07f4-df45-42ab-fde9-db2c4ddcd1e8"
      },
      "execution_count": 20,
      "outputs": [
        {
          "output_type": "execute_result",
          "data": {
            "text/plain": [
              "{'Hadoop', 'Hive', 'Spark', 'Sqoop'}"
            ]
          },
          "metadata": {},
          "execution_count": 20
        }
      ]
    },
    {
      "cell_type": "code",
      "source": [
        "# tuplas\n",
        "# são listas que não podem ser alteradas\n",
        "# tuplas usam parênteses como sintaxe, listas usam chaves\n",
        "tupla = (1, 2, 3, 4, 5, 6, 7)\n",
        "print(tupla)\n",
        "print(tupla[0])\n",
        "print(len(tupla))"
      ],
      "metadata": {
        "colab": {
          "base_uri": "https://localhost:8080/"
        },
        "id": "X37l_Mbgg_pP",
        "outputId": "7622db6b-1b1d-4772-de2b-14fd3cfd95bf"
      },
      "execution_count": 26,
      "outputs": [
        {
          "output_type": "stream",
          "name": "stdout",
          "text": [
            "(1, 2, 3, 4, 5, 6, 7)\n",
            "1\n",
            "7\n"
          ]
        }
      ]
    },
    {
      "cell_type": "code",
      "source": [
        "# dicionário em que cada posição recebe uma tupla\n",
        "dic2 = {(0, 1): 0, (1, 2): 1, (2, 3): 2, (3, 4): 3, (4, 5): 4,(5, 6): 5,\n",
        " (6, 7): 6, (7, 8): 7, (8, 9): 8, (9, 10): 9}\n",
        "dic2"
      ],
      "metadata": {
        "colab": {
          "base_uri": "https://localhost:8080/"
        },
        "id": "8kU7m86OhprC",
        "outputId": "e1de897f-24d0-43f7-a5ae-02003326ea4f"
      },
      "execution_count": 27,
      "outputs": [
        {
          "output_type": "execute_result",
          "data": {
            "text/plain": [
              "{(0, 1): 0,\n",
              " (1, 2): 1,\n",
              " (2, 3): 2,\n",
              " (3, 4): 3,\n",
              " (4, 5): 4,\n",
              " (5, 6): 5,\n",
              " (6, 7): 6,\n",
              " (7, 8): 7,\n",
              " (8, 9): 8,\n",
              " (9, 10): 9}"
            ]
          },
          "metadata": {},
          "execution_count": 27
        }
      ]
    },
    {
      "cell_type": "code",
      "source": [
        "# ver os tipos de cada conjunto\n",
        "print(type(Notas))\n",
        "print(type(bigdata))\n",
        "print(type(tupla))"
      ],
      "metadata": {
        "colab": {
          "base_uri": "https://localhost:8080/"
        },
        "id": "WlriIDR8h6FP",
        "outputId": "d26c957c-b60b-4bbc-ca32-be9a000496ec"
      },
      "execution_count": 28,
      "outputs": [
        {
          "output_type": "stream",
          "name": "stdout",
          "text": [
            "<class 'dict'>\n",
            "<class 'set'>\n",
            "<class 'tuple'>\n"
          ]
        }
      ]
    }
  ]
}