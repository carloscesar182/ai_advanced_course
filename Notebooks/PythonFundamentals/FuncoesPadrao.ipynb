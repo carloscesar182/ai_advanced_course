{
  "nbformat": 4,
  "nbformat_minor": 0,
  "metadata": {
    "colab": {
      "provenance": [],
      "authorship_tag": "ABX9TyNbexQGWMH86Y3CNQUh3BF4",
      "include_colab_link": true
    },
    "kernelspec": {
      "name": "python3",
      "display_name": "Python 3"
    },
    "language_info": {
      "name": "python"
    }
  },
  "cells": [
    {
      "cell_type": "markdown",
      "metadata": {
        "id": "view-in-github",
        "colab_type": "text"
      },
      "source": [
        "<a href=\"https://colab.research.google.com/github/carloscesar182/ai_advanced_course/blob/main/Notebooks/PythonFundamentals/FuncoesPadrao.ipynb\" target=\"_parent\"><img src=\"https://colab.research.google.com/assets/colab-badge.svg\" alt=\"Open In Colab\"/></a>"
      ]
    },
    {
      "cell_type": "code",
      "execution_count": 4,
      "metadata": {
        "colab": {
          "base_uri": "https://localhost:8080/"
        },
        "id": "T9wsVjpCFir7",
        "outputId": "0f0879b4-ead1-4ebe-e95e-a154db169525"
      },
      "outputs": [
        {
          "output_type": "stream",
          "name": "stdout",
          "text": [
            "200\n",
            "Maior valor:  45\n",
            "Menor valor:  1\n",
            "Soma:  108\n",
            "Arredondamento:  2.35\n"
          ]
        }
      ],
      "source": [
        "# funções internas\n",
        "print(abs(-200)) # valor absoluto\n",
        "lst = [1, 2, 30, 30, 45] # lista\n",
        "print(\"Maior valor: \", max(lst))\n",
        "print(\"Menor valor: \", min(lst))\n",
        "print(\"Soma: \", sum(lst))\n",
        "print(\"Arredondamento: \", round(2.34567,2)) # depois da vírgula informa a qty de decimais"
      ]
    },
    {
      "cell_type": "code",
      "source": [
        "# estatística\n",
        "from statistics import *\n",
        "print(\"Média: \", mean(lst))\n",
        "print(\"Mediana: \", median(lst))\n",
        "print(\"Moda: \", mode(lst))"
      ],
      "metadata": {
        "colab": {
          "base_uri": "https://localhost:8080/"
        },
        "id": "r0qrv8F0F5D9",
        "outputId": "bdcf0503-bc2c-4bf7-9f8d-c99bcaa078b5"
      },
      "execution_count": 2,
      "outputs": [
        {
          "output_type": "stream",
          "name": "stdout",
          "text": [
            "Média:  21.6\n",
            "Mediana:  30\n",
            "Moda:  30\n"
          ]
        }
      ]
    },
    {
      "cell_type": "code",
      "source": [
        "# desvio padrão da amostra\n",
        "print(\"Desvio padrão: \", stdev(lst))"
      ],
      "metadata": {
        "colab": {
          "base_uri": "https://localhost:8080/"
        },
        "id": "G-CfEPR4F9Yb",
        "outputId": "5b5b6617-9c02-4bd0-d24e-69be8422fb9f"
      },
      "execution_count": 5,
      "outputs": [
        {
          "output_type": "stream",
          "name": "stdout",
          "text": [
            "Desvio padrão:  19.346834366376324\n"
          ]
        }
      ]
    },
    {
      "cell_type": "code",
      "source": [
        "# variancia da amostra\n",
        "print(\"Variância: \", variance(lst))"
      ],
      "metadata": {
        "colab": {
          "base_uri": "https://localhost:8080/"
        },
        "id": "Hxg2eD-bGSl8",
        "outputId": "e3efc729-73d8-494c-9eda-67cf28dced39"
      },
      "execution_count": 6,
      "outputs": [
        {
          "output_type": "stream",
          "name": "stdout",
          "text": [
            "Variância:  374.3\n"
          ]
        }
      ]
    },
    {
      "cell_type": "code",
      "source": [
        "# matriz 8x8 do numpy\n",
        "from numpy import *\n",
        "a = random.random((8, 8))\n",
        "print(type(a))\n",
        "print(a)"
      ],
      "metadata": {
        "colab": {
          "base_uri": "https://localhost:8080/"
        },
        "id": "DqDes8NtGaps",
        "outputId": "2965d819-2b34-4138-d86c-425546c0b67a"
      },
      "execution_count": 7,
      "outputs": [
        {
          "output_type": "stream",
          "name": "stdout",
          "text": [
            "<class 'numpy.ndarray'>\n",
            "[[0.91785305 0.71180404 0.29565011 0.30269446 0.15799893 0.56560987\n",
            "  0.11803318 0.12284316]\n",
            " [0.30040658 0.32392944 0.34622578 0.33883611 0.95488444 0.79574706\n",
            "  0.45757176 0.25430558]\n",
            " [0.04651347 0.82391078 0.15069752 0.4759965  0.22361819 0.84356038\n",
            "  0.46083465 0.7484419 ]\n",
            " [0.96017035 0.5322713  0.60769138 0.68632497 0.77448951 0.18274264\n",
            "  0.01686428 0.61293035]\n",
            " [0.04057116 0.95206695 0.27663982 0.10848245 0.93218056 0.96752734\n",
            "  0.52918161 0.36817358]\n",
            " [0.58623116 0.26823058 0.35132417 0.90612212 0.63626191 0.04666655\n",
            "  0.27331151 0.42731486]\n",
            " [0.49356121 0.09294494 0.55398127 0.9875941  0.69160009 0.85305147\n",
            "  0.16193337 0.3553949 ]\n",
            " [0.24567959 0.0346452  0.33849516 0.84402349 0.19843636 0.44486487\n",
            "  0.21737964 0.37369743]]\n"
          ]
        }
      ]
    }
  ]
}