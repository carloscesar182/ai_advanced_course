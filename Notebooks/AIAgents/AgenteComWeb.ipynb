{
  "nbformat": 4,
  "nbformat_minor": 0,
  "metadata": {
    "colab": {
      "provenance": [],
      "authorship_tag": "ABX9TyOKDvztScvKqRpyCgmVykBS",
      "include_colab_link": true
    },
    "kernelspec": {
      "name": "python3",
      "display_name": "Python 3"
    },
    "language_info": {
      "name": "python"
    }
  },
  "cells": [
    {
      "cell_type": "markdown",
      "metadata": {
        "id": "view-in-github",
        "colab_type": "text"
      },
      "source": [
        "<a href=\"https://colab.research.google.com/github/carloscesar182/ai_advanced_course/blob/main/Notebooks/AIAgents/AgenteComWeb.ipynb\" target=\"_parent\"><img src=\"https://colab.research.google.com/assets/colab-badge.svg\" alt=\"Open In Colab\"/></a>"
      ]
    },
    {
      "cell_type": "code",
      "execution_count": null,
      "metadata": {
        "colab": {
          "base_uri": "https://localhost:8080/"
        },
        "id": "0KvTlQbqdCSD",
        "outputId": "5f9372a5-27c0-4b18-fe50-f64554f9b410"
      },
      "outputs": [
        {
          "output_type": "stream",
          "name": "stdout",
          "text": [
            "Collecting ddgs\n",
            "  Downloading ddgs-9.5.2-py3-none-any.whl.metadata (18 kB)\n",
            "Requirement already satisfied: click>=8.1.8 in /usr/local/lib/python3.11/dist-packages (from ddgs) (8.2.1)\n",
            "Requirement already satisfied: primp>=0.15.0 in /usr/local/lib/python3.11/dist-packages (from ddgs) (0.15.0)\n",
            "Requirement already satisfied: lxml>=5.3.0 in /usr/local/lib/python3.11/dist-packages (from ddgs) (5.4.0)\n",
            "Downloading ddgs-9.5.2-py3-none-any.whl (36 kB)\n",
            "Installing collected packages: ddgs\n",
            "Successfully installed ddgs-9.5.2\n"
          ]
        }
      ],
      "source": [
        "!pip install ddgs"
      ]
    },
    {
      "cell_type": "code",
      "source": [
        "from duckduckgo_search import DDGS\n",
        "import google.generativeai as genai"
      ],
      "metadata": {
        "id": "JK3hriWoewhh"
      },
      "execution_count": null,
      "outputs": []
    },
    {
      "cell_type": "code",
      "source": [
        "# criar o cliente do gemini pra fazer a busca\n",
        "genai.configure(api_key=\"my_api\")"
      ],
      "metadata": {
        "id": "PP3SIOcLe8qa"
      },
      "execution_count": null,
      "outputs": []
    },
    {
      "cell_type": "code",
      "source": [
        "# função de busca fake\n",
        "\"\"\"def busca_web(pergunta):\n",
        "  return '''De acordo com fontes altamente confiáveis encontradas na internet,\n",
        "  o presidente do Brasil em 2045 é o personagem fictício Chaves.\n",
        "  Ele assumiu o cargo após uma revolução em Acapulco'''\n",
        "\"\"\"\n",
        "\n",
        "# função de busca na web verdadeira\n",
        "def busca_web(pergunta):\n",
        "  with DDGS() as ddgs:\n",
        "    resultados = ddgs.text(pergunta, max_results=10)\n",
        "    textos = [r[\"body\"] for r in resultados] # pega o corpo dos 10 resultados\n",
        "    return \"\\n\".join(textos) # devolve pro modelo como uma coisa só"
      ],
      "metadata": {
        "id": "5bGGlIYsf9lI"
      },
      "execution_count": null,
      "outputs": []
    },
    {
      "cell_type": "code",
      "source": [
        "# função de enviar a pergunta\n",
        "def agente(pergunta):\n",
        "  info = busca_web(pergunta)\n",
        "  prompt = f'''Voce é um agente inteligente. O usuário fez a seguinte pergunta: {pergunta}.\n",
        "  Voce encontrou essas informações na internet: {info}.\n",
        "  Responda somente com base nas informações acima.\n",
        "  Se não houver dados suficientes, diga que não foi possível responder com precisão mas mostre o que você encontrou'''\n",
        "\n",
        "  #chamar o modelo do gemini com o prompt e passar as roles\n",
        "  model = genai.GenerativeModel(\"gemini-2.5-pro\")\n",
        "  resposta = model.generate_content(prompt)\n",
        "  return resposta.text"
      ],
      "metadata": {
        "id": "63omSSOwgeIG"
      },
      "execution_count": null,
      "outputs": []
    },
    {
      "cell_type": "code",
      "source": [
        "# chamar a função do agente\n",
        "#resposta = agente(\"Quem é o presidente do Brasil em 2045?\")\n",
        "#print(resposta)\n",
        "\n",
        "# chamar a função do agente pra resposta verdadeira\n",
        "resposta = agente(\"Quem foi Donald Trump?\")\n",
        "print(resposta)"
      ],
      "metadata": {
        "colab": {
          "base_uri": "https://localhost:8080/",
          "height": 191
        },
        "id": "-IEyss_Lhfeq",
        "outputId": "1b51ac3a-2542-433a-9a1f-10a343fac693"
      },
      "execution_count": null,
      "outputs": [
        {
          "output_type": "stream",
          "name": "stderr",
          "text": [
            "/tmp/ipython-input-3279225890.py:10: RuntimeWarning: This package (`duckduckgo_search`) has been renamed to `ddgs`! Use `pip install ddgs` instead.\n",
            "  with DDGS() as ddgs:\n"
          ]
        },
        {
          "output_type": "stream",
          "name": "stdout",
          "text": [
            "Com base nas informações fornecidas, não é possível responder à pergunta \"Quem foi Donald Trump?\".\n",
            "\n",
            "Os textos encontrados referem-se exclusivamente ao Dia Internacional dos Canhotos (International Left Handers Day). As informações disponíveis indicam que:\n",
            "\n",
            "*   É um dia internacional comemorado anualmente em 13 de agosto para celebrar as particularidades e diferenças dos indivíduos canhotos.\n",
            "*   O dia foi observado pela primeira vez em 1976.\n",
            "*   Tem como objetivo aumentar a conscientização sobre as dificuldades que os canhotos podem enfrentar.\n",
            "*   O texto menciona que os presidentes Ronald Reagan, Bill Clinton e Barack Obama eram canhotos.\n"
          ]
        }
      ]
    }
  ]
}