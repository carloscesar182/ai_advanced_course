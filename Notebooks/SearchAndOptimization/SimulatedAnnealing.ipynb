{
  "nbformat": 4,
  "nbformat_minor": 0,
  "metadata": {
    "colab": {
      "provenance": [],
      "authorship_tag": "ABX9TyOyohe4J2yP9Fo0MdlUp99+",
      "include_colab_link": true
    },
    "kernelspec": {
      "name": "python3",
      "display_name": "Python 3"
    },
    "language_info": {
      "name": "python"
    }
  },
  "cells": [
    {
      "cell_type": "markdown",
      "metadata": {
        "id": "view-in-github",
        "colab_type": "text"
      },
      "source": [
        "<a href=\"https://colab.research.google.com/github/carloscesar182/ai_advanced_course/blob/main/Notebooks/SearchAndOptimization/SimulatedAnnealing.ipynb\" target=\"_parent\"><img src=\"https://colab.research.google.com/assets/colab-badge.svg\" alt=\"Open In Colab\"/></a>"
      ]
    },
    {
      "cell_type": "code",
      "execution_count": 1,
      "metadata": {
        "id": "BAwNkdzcUJKE"
      },
      "outputs": [],
      "source": [
        "import numpy as np\n",
        "from scipy.optimize import basinhopping"
      ]
    },
    {
      "cell_type": "code",
      "source": [
        "# criar a função objetivo rosenbrock pra receber o x\n",
        "def rosenbrock(x):\n",
        "  return (1 - x[0])**2 + 100*(x[1] - x[0]**2)**2\n",
        "\n",
        "# definir os limites da busca\n",
        "bounds = [(-2, 2), (-2, 2)]\n",
        "\n",
        "# definir os valores iniciais pro array\n",
        "x0 = np.array([0,0])\n",
        "\n",
        "# definir parametros para chamar o basinhopping\n",
        "# stepsize define as etapas que vão ser percorridas na busca. Se for muito grande, pode perder o mínimo, se for mto pequeno, pode demorar muito pra convergir\n",
        "# T é a temperatura. Temp alta explora soluções que podem não otimizar, com a temp baixa, tende a explorar a vizinhança e aceitar o optimo local. Busca-se o meio termo\n",
        "# niter é o num max de iterações\n",
        "# disp = false faz não mostrar a saída\n",
        "options = {'stepsize': 0.5, 'T': 1.0, 'niter': 100, 'disp': False}\n",
        "\n",
        "# chamar a função basinghopping\n",
        "result = basinhopping(rosenbrock, x0, minimizer_kwargs={\"bounds\": bounds},**options)\n",
        "print(result)"
      ],
      "metadata": {
        "colab": {
          "base_uri": "https://localhost:8080/"
        },
        "id": "2ua0KhXgUa-Z",
        "outputId": "26aba1c1-7d7c-4fe7-846b-d01bb18e4b78"
      },
      "execution_count": 2,
      "outputs": [
        {
          "output_type": "stream",
          "name": "stdout",
          "text": [
            "                    message: ['requested number of basinhopping iterations completed successfully']\n",
            "                    success: True\n",
            "                        fun: 6.140058529945953e-13\n",
            "                          x: [ 1.000e+00  1.000e+00]\n",
            "                        nit: 100\n",
            "      minimization_failures: 0\n",
            "                       nfev: 6954\n",
            "                       njev: 2318\n",
            " lowest_optimization_result:  message: CONVERGENCE: RELATIVE REDUCTION OF F <= FACTR*EPSMCH\n",
            "                              success: True\n",
            "                               status: 0\n",
            "                                  fun: 6.140058529945953e-13\n",
            "                                    x: [ 1.000e+00  1.000e+00]\n",
            "                                  nit: 17\n",
            "                                  jac: [-1.490e-05  9.808e-06]\n",
            "                                 nfev: 63\n",
            "                                 njev: 21\n",
            "                             hess_inv: <2x2 LbfgsInvHessProduct with dtype=float64>\n"
          ]
        }
      ]
    }
  ]
}