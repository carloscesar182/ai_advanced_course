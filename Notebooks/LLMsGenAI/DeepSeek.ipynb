{
  "nbformat": 4,
  "nbformat_minor": 0,
  "metadata": {
    "colab": {
      "provenance": [],
      "authorship_tag": "ABX9TyNQkQE9SE24OscGT9GDJslo",
      "include_colab_link": true
    },
    "kernelspec": {
      "name": "python3",
      "display_name": "Python 3"
    },
    "language_info": {
      "name": "python"
    }
  },
  "cells": [
    {
      "cell_type": "markdown",
      "metadata": {
        "id": "view-in-github",
        "colab_type": "text"
      },
      "source": [
        "<a href=\"https://colab.research.google.com/github/carloscesar182/ai_advanced_course/blob/main/Notebooks/LLMsGenAI/DeepSeek.ipynb\" target=\"_parent\"><img src=\"https://colab.research.google.com/assets/colab-badge.svg\" alt=\"Open In Colab\"/></a>"
      ]
    },
    {
      "cell_type": "code",
      "execution_count": null,
      "metadata": {
        "id": "IJ_hEFFyzvAN"
      },
      "outputs": [],
      "source": [
        "api_key = \"my_api\""
      ]
    },
    {
      "cell_type": "code",
      "source": [
        "from openai import OpenAI\n",
        "url = \"https://api.deepseek.com\"\n",
        "\n",
        "# chamada do deepseek via objeto da openai\n",
        "# objeto openai pra receber a chave. Não vai chamar o método da openai, mas sim o da deepseek\n",
        "client = OpenAI(\n",
        "    base_url=url,\n",
        "    api_key=api_key,\n",
        ")\n",
        "\n",
        "# objeto para definir modelo, lista de dicionario com os roles\n",
        "response = client.chat.completions.create(\n",
        "    model = \"deepseek-chat\",\n",
        "    messages = [\n",
        "        {\"role\": \"system\", \"content\": \"Você é um assistente multi idioma que deve responder de maneira clara e objetiva.\"},\n",
        "        {\"role\": \"user\", \"content\": \"Cite uma frase de Carl Sagan\"},\n",
        "    ],\n",
        "    stream=False\n",
        ")\n",
        "\n",
        "print(response.choices[0].message.content)"
      ],
      "metadata": {
        "id": "T1BEGovh0Vm2"
      },
      "execution_count": null,
      "outputs": []
    },
    {
      "cell_type": "code",
      "source": [
        "# chamar o deepseek pelo método web via url, modo mais primitivo\n",
        "import requests\n",
        "import json\n",
        "\n",
        "url = \"https://api.deepseek.com/chat/completions\"\n",
        "\n",
        "# como a requisição é via url, precisamos de um header\n",
        "headers = {\n",
        "    \"Content-Type\" : \"application/json\",\n",
        "    \"Authorization\" : f\"Bearer {api_key}\"\n",
        "}\n",
        "\n",
        "# corpo\n",
        "payload = {\n",
        "    \"model\" : \"deepseek-chat\",\n",
        "    \"messages\" : [\n",
        "        {\"role\": \"system\", \"content\": \"Você é um assistente multi idioma que deve responder de maneira clara e objetiva.\"},\n",
        "        {\"role\": \"user\", \"content\": \"Cite uma frase de Carl Sagan\"},\n",
        "    ]\n",
        "}\n",
        "\n",
        "# requests para enviar a requisição\n",
        "response = requests.post(url, headers=headers, data=json.dumps(payload))\n",
        "\n",
        "# mostrar o resultado\n",
        "result = response.json()\n",
        "print(result[\"choices\"][0][\"message\"][\"content\"])"
      ],
      "metadata": {
        "id": "7_gjGw9nQACO"
      },
      "execution_count": null,
      "outputs": []
    }
  ]
}