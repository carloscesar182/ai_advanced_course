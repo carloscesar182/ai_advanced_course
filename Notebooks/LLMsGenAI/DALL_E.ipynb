{
  "nbformat": 4,
  "nbformat_minor": 0,
  "metadata": {
    "colab": {
      "provenance": [],
      "authorship_tag": "ABX9TyO0Q9ntrL8i72QQcq5d7V8F",
      "include_colab_link": true
    },
    "kernelspec": {
      "name": "python3",
      "display_name": "Python 3"
    },
    "language_info": {
      "name": "python"
    }
  },
  "cells": [
    {
      "cell_type": "markdown",
      "metadata": {
        "id": "view-in-github",
        "colab_type": "text"
      },
      "source": [
        "<a href=\"https://colab.research.google.com/github/carloscesar182/ai_advanced_course/blob/main/Notebooks/LLMsGenAI/DALL_E.ipynb\" target=\"_parent\"><img src=\"https://colab.research.google.com/assets/colab-badge.svg\" alt=\"Open In Colab\"/></a>"
      ]
    },
    {
      "cell_type": "code",
      "execution_count": null,
      "metadata": {
        "id": "4dWfAx6_Tmj2"
      },
      "outputs": [],
      "source": [
        "!pip install openai"
      ]
    },
    {
      "cell_type": "code",
      "source": [
        "from openai import OpenAI\n",
        "from PIL import Image # biblioteca classica do python para tratamento de imagens\n",
        "import base64 # gerar imagens com base64 que tem um formato bom pra funcionar através de api\n",
        "import requests # importar via url\n",
        "from io import BytesIO # manipular imagem em disco\n",
        "from IPython.display import display # mostrar imagem no jupyter notebook ou colab do google"
      ],
      "metadata": {
        "id": "-4xRyveXUglL"
      },
      "execution_count": null,
      "outputs": []
    },
    {
      "cell_type": "code",
      "source": [
        "# definir a chave da api\n",
        "client = OpenAI(api_key=\"my_api\")"
      ],
      "metadata": {
        "id": "i-FAWgwEUt5E"
      },
      "execution_count": null,
      "outputs": []
    },
    {
      "cell_type": "code",
      "source": [
        "# gerar uma imagem via api com alguns parametros. Vamos obter respostas como url\n",
        "response = client.images.generate(\n",
        "    model = \"dall-e-3\",\n",
        "    prompt = \"Centro de controle futurista com hologramas e vista para uma cidade cyberpunk\",\n",
        "    size = \"1024x1024\", # existem 3 tamanhos possíveis, quadrado (1024x1024), paisagem (1792x1024) e retrato (1024x1792)\n",
        "    quality = \"standard\", # \"hd\"\n",
        "    n = 1 # numero de imagens a serem geradas\n",
        ")"
      ],
      "metadata": {
        "id": "H72DDeKcVMh9"
      },
      "execution_count": null,
      "outputs": []
    },
    {
      "cell_type": "code",
      "source": [
        "# armazenar a url\n",
        "image_url = response.data[0].url\n",
        "print(image_url)"
      ],
      "metadata": {
        "id": "zhdJJGgBWiDl"
      },
      "execution_count": null,
      "outputs": []
    },
    {
      "cell_type": "code",
      "source": [
        "# abrir a imagem com base na url\n",
        "image_response = requests.get(image_url)\n",
        "img = Image.open(BytesIO(image_response.content))\n",
        "display(img)"
      ],
      "metadata": {
        "id": "PuUhZKQaVUgZ"
      },
      "execution_count": null,
      "outputs": []
    },
    {
      "cell_type": "code",
      "source": [
        "# gerar imagens com base64, que é mais voltado para aplicações\n",
        "response = client.images.generate(\n",
        "    model = \"dall-e-3\",\n",
        "    prompt = \"Robô antigo empoeirado sentado em uma oficina abandonada\",\n",
        "    size = \"1792x1024\",\n",
        "    quality = \"standard\",\n",
        "    n = 1,\n",
        "    response_format = \"b64_json\" # faz a api gerar imagens em base64\n",
        ")"
      ],
      "metadata": {
        "id": "SuAkt1yFXjOU"
      },
      "execution_count": null,
      "outputs": []
    },
    {
      "cell_type": "code",
      "source": [
        "# decodificar a imagem base64\n",
        "imagem_b64 = response.data[0].b64_json\n",
        "imagem = base64.b64decode(imagem_b64)"
      ],
      "metadata": {
        "id": "X0GL4C4bX8pm"
      },
      "execution_count": null,
      "outputs": []
    },
    {
      "cell_type": "code",
      "source": [
        "# criar o objeto em disco, escrever a imagem nela e abrir\n",
        "with open(\"robo.png\", \"wb\") as f:\n",
        "    f.write(imagem)\n",
        "\n",
        "display(Image.open(\"robo.png\"))"
      ],
      "metadata": {
        "id": "nTr2cJiIYLjD"
      },
      "execution_count": null,
      "outputs": []
    }
  ]
}