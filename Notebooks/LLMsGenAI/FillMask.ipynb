{
  "nbformat": 4,
  "nbformat_minor": 0,
  "metadata": {
    "colab": {
      "provenance": [],
      "authorship_tag": "ABX9TyOMICloJswThZFkgBPPbzzF",
      "include_colab_link": true
    },
    "kernelspec": {
      "name": "python3",
      "display_name": "Python 3"
    },
    "language_info": {
      "name": "python"
    }
  },
  "cells": [
    {
      "cell_type": "markdown",
      "metadata": {
        "id": "view-in-github",
        "colab_type": "text"
      },
      "source": [
        "<a href=\"https://colab.research.google.com/github/carloscesar182/ai_advanced_course/blob/main/Notebooks/LLMsGenAI/FillMask.ipynb\" target=\"_parent\"><img src=\"https://colab.research.google.com/assets/colab-badge.svg\" alt=\"Open In Colab\"/></a>"
      ]
    },
    {
      "cell_type": "code",
      "execution_count": null,
      "metadata": {
        "id": "Otdu3cZMLxLX"
      },
      "outputs": [],
      "source": [
        "!pip install transformers"
      ]
    },
    {
      "cell_type": "code",
      "source": [
        "import transformers\n",
        "from transformers import pipeline"
      ],
      "metadata": {
        "id": "ktyJZ3Y0JTRi"
      },
      "execution_count": null,
      "outputs": []
    },
    {
      "cell_type": "code",
      "source": [
        "# criar um modelo base\n",
        "mascarar = pipeline('fill-mask', model='neuralmind/bert-base-portuguese-cased')\n",
        "\n",
        "# criar um texto base e passar a máscara para ser preenchida\n",
        "# vai ser criado um dicionário com score de probabilidade da palavra a ser substituida\n",
        "texto = mascarar(\"Existe uma chance do corpo cair no [MASK].\")\n",
        "\n",
        "# como é mais de uma palavra, o dicionário vem em forma de lista de palavras\n",
        "for x in range(len(texto)):\n",
        "  print(texto[x])"
      ],
      "metadata": {
        "id": "6kJj2V9yMGSC"
      },
      "execution_count": null,
      "outputs": []
    },
    {
      "cell_type": "code",
      "source": [
        "# texto com duas máscaras\n",
        "texto = mascarar([\"Existe uma chance do corpo cair no [MASK].\", \"Brasília é a capital do [MASK].\"])\n",
        "for x in range(len(texto)):\n",
        "  print(texto[x])"
      ],
      "metadata": {
        "id": "hzW8CbHFNOTa"
      },
      "execution_count": null,
      "outputs": []
    }
  ]
}