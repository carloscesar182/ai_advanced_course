{
  "nbformat": 4,
  "nbformat_minor": 0,
  "metadata": {
    "colab": {
      "provenance": [],
      "authorship_tag": "ABX9TyMWFn9qQkGb8Pdar5v4jnYx",
      "include_colab_link": true
    },
    "kernelspec": {
      "name": "python3",
      "display_name": "Python 3"
    },
    "language_info": {
      "name": "python"
    }
  },
  "cells": [
    {
      "cell_type": "markdown",
      "metadata": {
        "id": "view-in-github",
        "colab_type": "text"
      },
      "source": [
        "<a href=\"https://colab.research.google.com/github/carloscesar182/ai_advanced_course/blob/main/Notebooks/LLMsGenAI/TextGenerator.ipynb\" target=\"_parent\"><img src=\"https://colab.research.google.com/assets/colab-badge.svg\" alt=\"Open In Colab\"/></a>"
      ]
    },
    {
      "cell_type": "code",
      "execution_count": null,
      "metadata": {
        "id": "7Xg0IPQYILSh"
      },
      "outputs": [],
      "source": [
        "!pip install transformers"
      ]
    },
    {
      "cell_type": "code",
      "source": [
        "import transformers\n",
        "from transformers import pipeline"
      ],
      "metadata": {
        "id": "ktyJZ3Y0JTRi"
      },
      "execution_count": null,
      "outputs": []
    },
    {
      "cell_type": "code",
      "source": [
        "# criar um objeto do tipo pipeline pra passar a tarefa de geração de texto e o modelo de geração de texto\n",
        "gerador = pipeline(\"text-generation\", model=\"pierreguillou/gpt2-small-portuguese\")\n",
        "\n",
        "# chamar o método gerador passando um texto, max_lenght e um parametro do_sample\n",
        "# text = \"Em sentido estrito, ciência refere-se ao sistema de adquirir conhecimento baseado no método científico.\"\n",
        "text = \"Um transformer é um grande modelo de linguagem natural.\"\n",
        "resultado = gerador(text, max_length=100, do_sample=True) # do_sample verdadeiro pode criar palavras aleatória, e tenho chance maior do texto ser variado\n",
        "print(resultado)"
      ],
      "metadata": {
        "id": "t-T5qXe5JXCB"
      },
      "execution_count": null,
      "outputs": []
    }
  ]
}