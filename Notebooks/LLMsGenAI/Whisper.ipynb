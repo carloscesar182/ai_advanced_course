{
  "nbformat": 4,
  "nbformat_minor": 0,
  "metadata": {
    "colab": {
      "provenance": [],
      "gpuType": "T4",
      "authorship_tag": "ABX9TyOS2jGqqtWXVauQTzsjKz31",
      "include_colab_link": true
    },
    "kernelspec": {
      "name": "python3",
      "display_name": "Python 3"
    },
    "language_info": {
      "name": "python"
    },
    "accelerator": "GPU"
  },
  "cells": [
    {
      "cell_type": "markdown",
      "metadata": {
        "id": "view-in-github",
        "colab_type": "text"
      },
      "source": [
        "<a href=\"https://colab.research.google.com/github/carloscesar182/ai_advanced_course/blob/main/Notebooks/LLMsGenAI/Whisper.ipynb\" target=\"_parent\"><img src=\"https://colab.research.google.com/assets/colab-badge.svg\" alt=\"Open In Colab\"/></a>"
      ]
    },
    {
      "cell_type": "code",
      "execution_count": null,
      "metadata": {
        "id": "rkioeF62f3hb"
      },
      "outputs": [],
      "source": [
        "!pip install openai-whisper"
      ]
    },
    {
      "cell_type": "code",
      "source": [
        "import whisper\n",
        "import os"
      ],
      "metadata": {
        "id": "PmOMUa8NgaDZ"
      },
      "execution_count": null,
      "outputs": []
    },
    {
      "cell_type": "code",
      "source": [
        "# definir o modelo\n",
        "modelo = whisper.load_model(\"base\")\n",
        "\n",
        "# fazer a transcrição\n",
        "resultado = modelo.transcribe(\"teste.mp3\")\n",
        "\n",
        "# imprimir o resultado\n",
        "texto = resultado[\"text\"]\n",
        "idioma = resultado[\"language\"]\n",
        "print(f'Transcrição: {texto} \\nIdioma: {idioma}')"
      ],
      "metadata": {
        "id": "K3M5X2PRgsk7"
      },
      "execution_count": null,
      "outputs": []
    },
    {
      "cell_type": "code",
      "source": [
        "# pegar a transcrição e salvar num arquivo chamado \"arquivo\"\n",
        "with open(\"arquivo.txt\", \"w\") as f:\n",
        "    f.write(f'{texto}')"
      ],
      "metadata": {
        "id": "fcVY-h1WhPSU"
      },
      "execution_count": null,
      "outputs": []
    }
  ]
}