{
  "nbformat": 4,
  "nbformat_minor": 0,
  "metadata": {
    "colab": {
      "provenance": [],
      "authorship_tag": "ABX9TyNEnZ7/IFpjeZkv1poFnTKn",
      "include_colab_link": true
    },
    "kernelspec": {
      "name": "python3",
      "display_name": "Python 3"
    },
    "language_info": {
      "name": "python"
    }
  },
  "cells": [
    {
      "cell_type": "markdown",
      "metadata": {
        "id": "view-in-github",
        "colab_type": "text"
      },
      "source": [
        "<a href=\"https://colab.research.google.com/github/carloscesar182/ai_advanced_course/blob/main/Notebooks/LLMsGenAI/OpenAIGPT.ipynb\" target=\"_parent\"><img src=\"https://colab.research.google.com/assets/colab-badge.svg\" alt=\"Open In Colab\"/></a>"
      ]
    },
    {
      "cell_type": "code",
      "execution_count": null,
      "metadata": {
        "id": "8B8QyjxTTAoV"
      },
      "outputs": [],
      "source": [
        "!pip install openai"
      ]
    },
    {
      "cell_type": "code",
      "source": [
        "from openai import OpenAI"
      ],
      "metadata": {
        "id": "iHA0NJuUTy_b"
      },
      "execution_count": null,
      "outputs": []
    },
    {
      "cell_type": "code",
      "source": [
        "# criar o objeto openai pra receber como parametro a chave da api\n",
        "client = OpenAI(api_key=\"my_api\")\n",
        "\n",
        "# definir o modelo\n",
        "model = \"gpt-3.5-turbo\""
      ],
      "metadata": {
        "id": "L_xjcwTXT3RI"
      },
      "execution_count": null,
      "outputs": []
    },
    {
      "cell_type": "code",
      "source": [
        "# pedir pra api contar uma piada\n",
        "# na opção chat do modelo da openai, podemos trabalhar com roles\n",
        "# user: mensagem ou texto do usuário\n",
        "# system: utiliza pra dizer pro modelo qual é o papel dele\n",
        "# assistant: utiliza pra manter o contexto da conversa\n",
        "# primeiro exemplo vamos usar só user e analisar a resposta\n",
        "response = client.chat.completions.create(\n",
        "    model = model,\n",
        "    messages = [\n",
        "        {\"role\": \"user\", \"content\": \"Conte uma piada sobre futebol\"}\n",
        "    ]\n",
        ")\n",
        "print(response)"
      ],
      "metadata": {
        "id": "hpWsl2UZUJhj"
      },
      "execution_count": null,
      "outputs": []
    },
    {
      "cell_type": "code",
      "source": [
        "# mostrar apenas a resposta\n",
        "message = response.choices[0].message.content\n",
        "print(message)"
      ],
      "metadata": {
        "id": "QAhpqDaFuqCR"
      },
      "execution_count": null,
      "outputs": []
    },
    {
      "cell_type": "code",
      "source": [
        "# atribuir uma role para o gpt dizendo que ele é um assistente financeiro fictício\n",
        "response = client.chat.completions.create(\n",
        "    model = model,\n",
        "    messages = [\n",
        "        {\"role\": \"system\", \"content\": \"Você é um assistente financeiro fictício\"},\n",
        "        {\"role\": \"user\", \"content\": \"Qual investimento você me indica. Conservador, 30 anos com planos de aponsentar aos 50\"}\n",
        "    ]\n",
        ")\n",
        "\n",
        "# mostrar apenas a resposta\n",
        "message = response.choices[0].message.content\n",
        "print(message)"
      ],
      "metadata": {
        "id": "HaJ87yc7vMoX"
      },
      "execution_count": null,
      "outputs": []
    },
    {
      "cell_type": "code",
      "source": [
        "# perguntar quais os riscos relacionados a cada investimento\n",
        "response = client.chat.completions.create(\n",
        "    model = model,\n",
        "    messages = [\n",
        "        {\"role\": \"assistant\", \"content\": message},\n",
        "        {\"role\": \"user\", \"content\": \"Quais os riscos de investimento?\"}\n",
        "  ]\n",
        ")\n",
        "message = response.choices[0].message.content\n",
        "print(message)"
      ],
      "metadata": {
        "id": "fw87H6sWv11x"
      },
      "execution_count": null,
      "outputs": []
    }
  ]
}