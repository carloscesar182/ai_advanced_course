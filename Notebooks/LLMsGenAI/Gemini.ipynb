{
  "nbformat": 4,
  "nbformat_minor": 0,
  "metadata": {
    "colab": {
      "provenance": [],
      "authorship_tag": "ABX9TyM/3an+dTXQVRUv+PupCiN0",
      "include_colab_link": true
    },
    "kernelspec": {
      "name": "python3",
      "display_name": "Python 3"
    },
    "language_info": {
      "name": "python"
    }
  },
  "cells": [
    {
      "cell_type": "markdown",
      "metadata": {
        "id": "view-in-github",
        "colab_type": "text"
      },
      "source": [
        "<a href=\"https://colab.research.google.com/github/carloscesar182/ai_advanced_course/blob/main/Notebooks/LLMsGenAI/Gemini.ipynb\" target=\"_parent\"><img src=\"https://colab.research.google.com/assets/colab-badge.svg\" alt=\"Open In Colab\"/></a>"
      ]
    },
    {
      "cell_type": "code",
      "execution_count": null,
      "metadata": {
        "id": "7ByV4rk-w125"
      },
      "outputs": [],
      "source": [
        "import google.generativeai as genai"
      ]
    },
    {
      "cell_type": "code",
      "source": [
        "# definir a chave da api\n",
        "genai.configure(api_key=\"my_api\")"
      ],
      "metadata": {
        "id": "rMCFbq9gxqNe"
      },
      "execution_count": null,
      "outputs": []
    },
    {
      "cell_type": "code",
      "source": [
        "# chamar o método generative model\n",
        "model = genai.GenerativeModel(\"gemini-2.5-pro\")\n",
        "conversation = \"Você é um assistente útil que responde de maneira clara e objetiva. \" + \"Cite uma frase de Carl Sagan\"\n",
        "\n",
        "# chamar o model chamando o método generate content\n",
        "response = model.generate_content(conversation)\n",
        "print(response.text.strip())"
      ],
      "metadata": {
        "id": "Kr4HOjejx6Ss"
      },
      "execution_count": null,
      "outputs": []
    }
  ]
}