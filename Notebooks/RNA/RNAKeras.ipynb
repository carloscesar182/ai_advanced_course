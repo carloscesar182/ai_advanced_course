{
  "nbformat": 4,
  "nbformat_minor": 0,
  "metadata": {
    "colab": {
      "provenance": [],
      "authorship_tag": "ABX9TyMKyuFjj1/GVfUWAT/VzykC",
      "include_colab_link": true
    },
    "kernelspec": {
      "name": "python3",
      "display_name": "Python 3"
    },
    "language_info": {
      "name": "python"
    }
  },
  "cells": [
    {
      "cell_type": "markdown",
      "metadata": {
        "id": "view-in-github",
        "colab_type": "text"
      },
      "source": [
        "<a href=\"https://colab.research.google.com/github/carloscesar182/ai_advanced_course/blob/main/Notebooks/RNA/RNAKeras.ipynb\" target=\"_parent\"><img src=\"https://colab.research.google.com/assets/colab-badge.svg\" alt=\"Open In Colab\"/></a>"
      ]
    },
    {
      "cell_type": "code",
      "execution_count": null,
      "metadata": {
        "id": "Ch9pWAKHtU8N"
      },
      "outputs": [],
      "source": [
        "import pandas as pd\n",
        "import numpy as np\n",
        "from sklearn.model_selection import train_test_split\n",
        "from sklearn.preprocessing import StandardScaler, LabelEncoder\n",
        "from sklearn.metrics import accuracy_score, f1_score, confusion_matrix, recall_score\n",
        "from keras.models import Sequential\n",
        "from keras.layers import Dense, Dropout"
      ]
    },
    {
      "cell_type": "code",
      "source": [
        "!pip install keras"
      ],
      "metadata": {
        "collapsed": true,
        "id": "AhNCzQL1uHTQ"
      },
      "execution_count": null,
      "outputs": []
    },
    {
      "cell_type": "code",
      "source": [
        "# importar os dados\n",
        "df = pd.read_csv('Churn_treino.csv', sep=';')\n",
        "df"
      ],
      "metadata": {
        "id": "Zr1J1YzCulIg"
      },
      "execution_count": null,
      "outputs": []
    },
    {
      "cell_type": "code",
      "source": [
        "# separar x e y\n",
        "X = df.drop('Exited', axis=1)\n",
        "y = df['Exited']"
      ],
      "metadata": {
        "id": "kE7eWadku8sw"
      },
      "execution_count": null,
      "outputs": []
    },
    {
      "cell_type": "code",
      "source": [
        "# fazer o labelencoder pra normalizar os dados numéricos\n",
        "standardscaler = StandardScaler()\n",
        "numerical = X.select_dtypes(include=['int64', 'float64']).columns\n",
        "X[numerical] = standardscaler.fit_transform(X[numerical])\n",
        "X"
      ],
      "metadata": {
        "id": "9vDCqBuKvFNn"
      },
      "execution_count": null,
      "outputs": []
    },
    {
      "cell_type": "code",
      "source": [
        "# fazer o labelencoder pra transformar os dados categóricos\n",
        "# importante, se a classe não fosse numérica, teríamos que aplicar o labelencoder nela tbm pq em redes neurais é necessário\n",
        "labelencoder = LabelEncoder()\n",
        "categorical = X.select_dtypes(include=['object']).columns\n",
        "for col in categorical:\n",
        "    X[col] = labelencoder.fit_transform(X[col])\n",
        "X"
      ],
      "metadata": {
        "id": "VK-ZU3U4vhYf"
      },
      "execution_count": null,
      "outputs": []
    },
    {
      "cell_type": "code",
      "source": [
        "# dividir treino e teste\n",
        "X_train, X_test, y_train, y_test = train_test_split(X, y, test_size=0.3, random_state=0)"
      ],
      "metadata": {
        "id": "VLCFl-9qwrzY"
      },
      "execution_count": null,
      "outputs": []
    },
    {
      "cell_type": "code",
      "source": [
        "# montar a topologia da rede neural\n",
        "modelo = Sequential()\n",
        "# adicionar as camadas\n",
        "# tipo densa, unitis é o num de neuronios, função de ativação, input_dim é o num de elementos da nossa camada\n",
        "modelo.add(Dense(units=64, activation='relu', input_dim=X_train.shape[1]))\n",
        "modelo.add(Dropout(0.4)) # regularização pra reduzir overfitting\n",
        "modelo.add(Dense(units=32, activation='relu'))\n",
        "modelo.add(Dropout(0.4))\n",
        "modelo.add(Dense(units=64, activation='relu'))\n",
        "modelo.add(Dropout(0.4))\n",
        "# se eu to prevendo 0 ou 1, preciso apenas de 1 neuronio (units=1) e a função sigmoid\n",
        "modelo.add(Dense(units=1, activation='sigmoid'))"
      ],
      "metadata": {
        "id": "IxJUWT4gwznO"
      },
      "execution_count": null,
      "outputs": []
    },
    {
      "cell_type": "code",
      "source": [
        "# compilar e treinar o modelo\n",
        "modelo.compile(optimizer='adam', loss='binary_crossentropy', metrics=['accuracy'])\n",
        "modelo.fit(X_train, y_train, epochs=50, batch_size=32)"
      ],
      "metadata": {
        "collapsed": true,
        "id": "yzB0p10AyJ_u"
      },
      "execution_count": null,
      "outputs": []
    },
    {
      "cell_type": "code",
      "source": [
        "# fazer previsões\n",
        "previsoes = modelo.predict(X_test)\n",
        "previsoes = (previsoes > 0.5).astype('int32')\n",
        "previsoes"
      ],
      "metadata": {
        "id": "Joyg0Zq6yywu"
      },
      "execution_count": null,
      "outputs": []
    },
    {
      "cell_type": "code",
      "source": [
        "# calcular e mostrar as metricas\n",
        "print('Acurácia: ', accuracy_score(y_test, previsoes))\n",
        "print('F1 Score: ', f1_score(y_test, previsoes))\n",
        "print('Recall: ', recall_score(y_test, previsoes))\n",
        "print('Matriz de confusão: \\n', confusion_matrix(y_test, previsoes))"
      ],
      "metadata": {
        "id": "2mOPgpGYzaQE"
      },
      "execution_count": null,
      "outputs": []
    }
  ]
}