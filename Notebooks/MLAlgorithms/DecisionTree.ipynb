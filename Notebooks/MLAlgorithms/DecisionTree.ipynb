{
  "nbformat": 4,
  "nbformat_minor": 0,
  "metadata": {
    "colab": {
      "provenance": [],
      "authorship_tag": "ABX9TyNXE+USq7zXxsQGlfgj+itY",
      "include_colab_link": true
    },
    "kernelspec": {
      "name": "python3",
      "display_name": "Python 3"
    },
    "language_info": {
      "name": "python"
    }
  },
  "cells": [
    {
      "cell_type": "markdown",
      "metadata": {
        "id": "view-in-github",
        "colab_type": "text"
      },
      "source": [
        "<a href=\"https://colab.research.google.com/github/carloscesar182/ai_advanced_course/blob/main/Notebooks/MLAlgorithms/DecisionTree.ipynb\" target=\"_parent\"><img src=\"https://colab.research.google.com/assets/colab-badge.svg\" alt=\"Open In Colab\"/></a>"
      ]
    },
    {
      "cell_type": "code",
      "execution_count": null,
      "metadata": {
        "id": "WJRt_F-eUOOf"
      },
      "outputs": [],
      "source": [
        "import pandas as pd # famosa biblioteca de manipulação de dados tabulários no python\n",
        "import numpy as np # para tratar dados em forma de vetores e matrizes, muito usada para IA\n",
        "import graphviz\n",
        "\n",
        "# sklearn é amplamente utilizada na área de dados\n",
        "from sklearn.model_selection import train_test_split # train_test_split é usada pra dividir os dados em conjunto de treino e teste\n",
        "from sklearn.tree import DecisionTreeClassifier, export_graphviz # biblioteca pra criar nosso modelo da arvore de decisão e grafico da árvore de decisão\n",
        "from sklearn.preprocessing import LabelEncoder # pra codificar dados categóricos em dados numéricos para que a biblioteca seja capaz de compreender e processar\n",
        "from sklearn.metrics import accuracy_score, precision_score, recall_score, f1_score, classification_report # métricas"
      ]
    },
    {
      "cell_type": "code",
      "source": [
        "# importando os dados\n",
        "base = pd.read_csv(\"insurance.csv\", keep_default_na=False) # parametro keep_default_na permite escolher se mantém ou não os valores nulos padrão da base\n",
        "base.head()"
      ],
      "metadata": {
        "id": "VVy59MRcVLGm"
      },
      "execution_count": null,
      "outputs": []
    },
    {
      "cell_type": "code",
      "source": [
        "# dropar coluna unnamed\n",
        "base = base.drop(columns=[\"Unnamed: 0\"])\n",
        "base.head()"
      ],
      "metadata": {
        "id": "ClNKALmRVRmO"
      },
      "execution_count": null,
      "outputs": []
    },
    {
      "cell_type": "code",
      "source": [
        "# definir as variáveis\n",
        "y = base.iloc[:,7].values # variável dependente\n",
        "X = base.drop(base.columns[7], axis=1).values # variável independente\n",
        "X"
      ],
      "metadata": {
        "id": "mk1Cr0lAVdF-"
      },
      "execution_count": null,
      "outputs": []
    },
    {
      "cell_type": "code",
      "source": [
        "# transformar variáveis categóricas em numéricas\n",
        "# laço pra detectar apenas os objetos que são categóricos, que no pandas é o tipo object e transformar só eles\n",
        "labelencoder = LabelEncoder()\n",
        "for i in range(X.shape[1]): # percorre todas as colunas\n",
        "  if X[:,i].dtype == 'object': # verifica se as colunas do laço são do tipo object\n",
        "    X[:,i] = labelencoder.fit_transform(X[:,i]) # se forem, pega o labelencoder da coluna atual, transforma e coloca no mesmo objeto da coluna atual. Isso vai substituindo as colunas pela mesma informação codificada"
      ],
      "metadata": {
        "id": "Pz0JpWxfVgCt"
      },
      "execution_count": null,
      "outputs": []
    },
    {
      "cell_type": "code",
      "source": [
        "# dividir os dados em treino e teste\n",
        "# precisamos ter 4 variáveis pra treino e teste. Independente de treino e teste e dependente de treino e teste\n",
        "X_train, X_test, y_train, y_test = train_test_split(X, y, test_size=0.3, random_state=12) # o test_size = 0.3 indica que 30% das linhas do CSV serão pra teste. Random_state garante que toda vez que rode, tenha o mesmo resultado"
      ],
      "metadata": {
        "id": "OAMN2ouVVqlF"
      },
      "execution_count": null,
      "outputs": []
    },
    {
      "cell_type": "code",
      "source": [
        "# criar e treinar o modelo decisiontree\n",
        "# cria o objeto limitando a complexidade da arvore com 8 nós de profundidade e 6 folhas pra ajudar minimizar o overfitting\n",
        "# isso não significa que são os melhores parametros, pois o certo é aplicar os calculos antes de definir o tamanho\n",
        "modelo = DecisionTreeClassifier(random_state=1, max_depth=8, max_leaf_nodes=6)\n",
        "modelo.fit(X_train, y_train) # treina o modelo"
      ],
      "metadata": {
        "id": "hUOcwuzdVwmt"
      },
      "execution_count": null,
      "outputs": []
    },
    {
      "cell_type": "code",
      "source": [
        "# criar a árvore graficamente\n",
        "dot_data = export_graphviz(modelo, out_file=None, feature_names=base.columns[:-1],\n",
        "                           class_names=True, rounded=True, filled=True)\n",
        "graph = graphviz.Source(dot_data)\n",
        "graph.render(\"decision_tree\", format=\"png\")\n",
        "graph.view()"
      ],
      "metadata": {
        "colab": {
          "base_uri": "https://localhost:8080/",
          "height": 35
        },
        "id": "c8Xgv8MDWtrG",
        "outputId": "faefe673-1d81-40c0-fdc3-252d8f507adc"
      },
      "execution_count": null,
      "outputs": [
        {
          "output_type": "execute_result",
          "data": {
            "text/plain": [
              "'decision_tree.pdf'"
            ],
            "application/vnd.google.colaboratory.intrinsic+json": {
              "type": "string"
            }
          },
          "metadata": {},
          "execution_count": 12
        }
      ]
    },
    {
      "cell_type": "code",
      "source": [
        "previsoes = modelo.predict(X_test)\n",
        "previsoes"
      ],
      "metadata": {
        "colab": {
          "base_uri": "https://localhost:8080/"
        },
        "id": "3ZUJHh8wYk9U",
        "outputId": "46fb9cc2-05cb-4f32-8a69-0b00e6bb4c4c"
      },
      "execution_count": null,
      "outputs": [
        {
          "output_type": "execute_result",
          "data": {
            "text/plain": [
              "array(['Moderate', 'Mild', 'Severe', ..., 'None', 'Mild', 'None'],\n",
              "      dtype=object)"
            ]
          },
          "metadata": {},
          "execution_count": 10
        }
      ]
    },
    {
      "cell_type": "code",
      "source": [
        "# metricas\n",
        "accuracy = accuracy_score(y_test, previsoes) # calcula o percentual de acerto comparando os dados do que aconteceu com o que foi previsto\n",
        "precision = precision_score(y_test, previsoes, average='weighted') # vai considerar as classes de forma ponderada\n",
        "recall = recall_score(y_test, previsoes, average='weighted')\n",
        "f1 = f1_score(y_test, previsoes, average='weighted')\n",
        "print(f'Acurácia: {accuracy:.2f}')\n",
        "print(f'Precisão: {precision:.2f}')\n",
        "print(f'Recall: {recall:.2f}')\n",
        "print(f'F1-score: {f1:.2f}')"
      ],
      "metadata": {
        "colab": {
          "base_uri": "https://localhost:8080/"
        },
        "id": "xa-jsHkQYsxc",
        "outputId": "1f176cd7-11f3-4771-e8f7-bc27db111f96"
      },
      "execution_count": null,
      "outputs": [
        {
          "output_type": "stream",
          "name": "stdout",
          "text": [
            "Acurácia: 0.94\n",
            "Precisão: 0.93\n",
            "Recall: 0.94\n",
            "F1-score: 0.93\n"
          ]
        }
      ]
    },
    {
      "cell_type": "code",
      "source": [
        "# gerar o classification report\n",
        "report = classification_report(y_test, previsoes)\n",
        "print(report)"
      ],
      "metadata": {
        "colab": {
          "base_uri": "https://localhost:8080/"
        },
        "id": "LEBWvtJoY7Tb",
        "outputId": "88bcad34-3b2d-457d-fac3-3dc8500466bf"
      },
      "execution_count": null,
      "outputs": [
        {
          "output_type": "stream",
          "name": "stdout",
          "text": [
            "              precision    recall  f1-score   support\n",
            "\n",
            "        Mild       0.87      0.71      0.78       570\n",
            "    Moderate       0.75      0.68      0.71       488\n",
            "        None       0.98      1.00      0.99      4253\n",
            "      Severe       0.87      0.93      0.90       689\n",
            "\n",
            "    accuracy                           0.94      6000\n",
            "   macro avg       0.87      0.83      0.84      6000\n",
            "weighted avg       0.93      0.94      0.93      6000\n",
            "\n"
          ]
        }
      ]
    }
  ]
}