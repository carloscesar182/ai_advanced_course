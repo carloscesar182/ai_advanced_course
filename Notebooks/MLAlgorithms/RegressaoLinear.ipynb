{
  "nbformat": 4,
  "nbformat_minor": 0,
  "metadata": {
    "colab": {
      "provenance": [],
      "authorship_tag": "ABX9TyPdc5NawyZ6KyaZ29p3zfeH",
      "include_colab_link": true
    },
    "kernelspec": {
      "name": "python3",
      "display_name": "Python 3"
    },
    "language_info": {
      "name": "python"
    }
  },
  "cells": [
    {
      "cell_type": "markdown",
      "metadata": {
        "id": "view-in-github",
        "colab_type": "text"
      },
      "source": [
        "<a href=\"https://colab.research.google.com/github/carloscesar182/ai_advanced_course/blob/main/Notebooks/MLAlgorithms/RegressaoLinear.ipynb\" target=\"_parent\"><img src=\"https://colab.research.google.com/assets/colab-badge.svg\" alt=\"Open In Colab\"/></a>"
      ]
    },
    {
      "cell_type": "code",
      "execution_count": null,
      "metadata": {
        "id": "nc0qxNVTT9C1"
      },
      "outputs": [],
      "source": [
        "from numpy import *\n",
        "\n",
        "# A regressão linear é um algoritmo de aprendizado de máquina supervisionado que é usado para prever um valor contínuo.\n",
        "# A ideia básica por trás da regressão linear é encontrar uma linha reta que melhor se ajuste aos dados.\n",
        "# Essa linha pode ser usada para fazer previsões sobre novos dados.\n",
        "class LinearRegression:\n",
        "  def __init__(self, x, y):\n",
        "    self.x = x\n",
        "    self.y = y\n",
        "    # O coeficiente de correlação, a inclinação e a interceptação são todos conceitos importantes na regressão linear.\n",
        "    # O coeficiente de correlação mede a força e a direção da relação linear entre duas variáveis.\n",
        "    # A inclinação da linha de regressão é a taxa na qual a variável dependente muda para cada unidade de mudança na variável independente.\n",
        "    # A interceptação é o ponto em que a linha de regressão cruza o eixo y.\n",
        "    self.__correlation_coefficient = self.__correlacao()\n",
        "    self.__inclination = self.__inclinacao()\n",
        "    self.__interception = self.__interceptacao()\n",
        "\n",
        "  # O coeficiente de correlação é uma medida da força e direção da relação linear entre duas variáveis.\n",
        "  # É calculado como a covariância das duas variáveis ​​dividida pelo produto de seus desvios padrão.\n",
        "  def __correlacao(self):\n",
        "    covariacao = cov(self.x, self.y, bias=True)[0][1]\n",
        "    variancia_x = var(self.x)\n",
        "    variancia_y = var(self.y)\n",
        "    return covariacao / sqrt(variancia_x * variancia_y)\n",
        "\n",
        "  # A inclinação da linha de regressão é a taxa na qual a variável dependente muda para cada unidade de mudança na variável independente.\n",
        "  # É calculado como o coeficiente de correlação multiplicado pela razão dos desvios padrão das duas variáveis.\n",
        "  def __inclinacao(self):\n",
        "    stdx = std(self.x)\n",
        "    stdy = std(self.y)\n",
        "    return self.__correlation_coefficient * (stdy / stdx)\n",
        "\n",
        "  # A interceptação é o ponto em que a linha de regressão cruza o eixo y.\n",
        "  # É calculado como a média da variável dependente menos a média da variável independente multiplicada pela inclinação.\n",
        "  def __interceptacao(self):\n",
        "    mediax = mean(self.x)\n",
        "    mediay = mean(self.y)\n",
        "    return mediay - mediax * self.__inclination\n",
        "\n",
        "  # O método de previsão usa a linha de regressão para fazer previsões sobre novos dados.\n",
        "  # Para fazer uma previsão, você simplesmente conecta o novo valor da variável independente na equação da linha de regressão.\n",
        "  def previsao(self, valor):\n",
        "    return self.__interception + (self.__inclination * valor)"
      ]
    },
    {
      "cell_type": "code",
      "source": [
        "# Criando os dados de exemplo\n",
        "x = array([1,2,3,4,5])\n",
        "y = array([2,4,6,8,10])\n",
        "\n",
        "# Criando uma instância da classe LinearRegression\n",
        "lr = LinearRegression(x, y)\n",
        "\n",
        "# Fazendo uma previsão para o valor 6\n",
        "previsao = lr.previsao(6)\n",
        "\n",
        "# Imprimindo a previsão\n",
        "print(previsao)"
      ],
      "metadata": {
        "id": "2uAWkpYgXBpO"
      },
      "execution_count": null,
      "outputs": []
    }
  ]
}