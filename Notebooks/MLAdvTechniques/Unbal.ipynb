{
  "nbformat": 4,
  "nbformat_minor": 0,
  "metadata": {
    "colab": {
      "provenance": [],
      "authorship_tag": "ABX9TyOKY5Izxdk3544AcCfmGS2N",
      "include_colab_link": true
    },
    "kernelspec": {
      "name": "python3",
      "display_name": "Python 3"
    },
    "language_info": {
      "name": "python"
    }
  },
  "cells": [
    {
      "cell_type": "markdown",
      "metadata": {
        "id": "view-in-github",
        "colab_type": "text"
      },
      "source": [
        "<a href=\"https://colab.research.google.com/github/carloscesar182/ai_advanced_course/blob/main/Notebooks/MLAdvTechniques/Unbal.ipynb\" target=\"_parent\"><img src=\"https://colab.research.google.com/assets/colab-badge.svg\" alt=\"Open In Colab\"/></a>"
      ]
    },
    {
      "cell_type": "code",
      "execution_count": null,
      "metadata": {
        "id": "ezRQ1cZrp4Ru"
      },
      "outputs": [],
      "source": [
        "import pandas as pd\n",
        "import numpy as np\n",
        "from sklearn.preprocessing import LabelEncoder\n",
        "from imblearn.over_sampling import SMOTENC"
      ]
    },
    {
      "cell_type": "code",
      "source": [
        "credito = pd.read_csv('credit_simple.csv', sep=';')\n",
        "credito.head()"
      ],
      "metadata": {
        "id": "k-fPsydMrmcV"
      },
      "execution_count": null,
      "outputs": []
    },
    {
      "cell_type": "code",
      "source": [
        "# confirmar se a classe está desbalanceada\n",
        "count = credito.groupby(['CLASSE']).size()\n",
        "count"
      ],
      "metadata": {
        "id": "X2c2vYljr0wE"
      },
      "execution_count": null,
      "outputs": []
    },
    {
      "cell_type": "code",
      "source": [
        "# separar as variáveis independentes da variavel dependente\n",
        "y = credito['CLASSE'].values\n",
        "X = credito.iloc[:,:-1].values"
      ],
      "metadata": {
        "id": "TDTl_w0lsJpz"
      },
      "execution_count": null,
      "outputs": []
    },
    {
      "cell_type": "code",
      "source": [
        "# transformar os dados com o label encoder\n",
        "labelencoder = LabelEncoder()\n",
        "for i in range(X.shape[1]):\n",
        "  if X[:,i].dtype == 'object':\n",
        "    X[:,i] = labelencoder.fit_transform(X[:,i])"
      ],
      "metadata": {
        "id": "Lq-IljwDsbej"
      },
      "execution_count": null,
      "outputs": []
    },
    {
      "cell_type": "code",
      "source": [
        "# gerar o modelo de transformação\n",
        "sm = SMOTENC(categorical_features=[3,5,6], random_state=0) # esses atributos são referencias, mas os dados são gerados com base em todos\n",
        "X_res, y_res = sm.fit_resample(X, y)"
      ],
      "metadata": {
        "id": "o17bbQqQtChz"
      },
      "execution_count": null,
      "outputs": []
    },
    {
      "cell_type": "code",
      "source": [
        "X_res"
      ],
      "metadata": {
        "id": "cK7ZjeygtiYT"
      },
      "execution_count": null,
      "outputs": []
    },
    {
      "cell_type": "code",
      "source": [
        "# ver se as classes de y estão balanceadas\n",
        "df = pd.DataFrame({'CLASSE':y_res})\n",
        "df.value_counts()"
      ],
      "metadata": {
        "id": "ImQxmvkytlMK"
      },
      "execution_count": null,
      "outputs": []
    }
  ]
}