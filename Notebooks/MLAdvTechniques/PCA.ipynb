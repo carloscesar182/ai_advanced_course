{
  "nbformat": 4,
  "nbformat_minor": 0,
  "metadata": {
    "colab": {
      "provenance": [],
      "authorship_tag": "ABX9TyOSItnMrjywtwvi+UUF48dO",
      "include_colab_link": true
    },
    "kernelspec": {
      "name": "python3",
      "display_name": "Python 3"
    },
    "language_info": {
      "name": "python"
    }
  },
  "cells": [
    {
      "cell_type": "markdown",
      "metadata": {
        "id": "view-in-github",
        "colab_type": "text"
      },
      "source": [
        "<a href=\"https://colab.research.google.com/github/carloscesar182/ai_advanced_course/blob/main/Notebooks/MLAdvTechniques/PCA.ipynb\" target=\"_parent\"><img src=\"https://colab.research.google.com/assets/colab-badge.svg\" alt=\"Open In Colab\"/></a>"
      ]
    },
    {
      "cell_type": "code",
      "execution_count": null,
      "metadata": {
        "id": "l35YJMCF2smm"
      },
      "outputs": [],
      "source": [
        "from sklearn.model_selection import train_test_split\n",
        "from sklearn.metrics import accuracy_score\n",
        "from sklearn.decomposition import PCA\n",
        "from sklearn.ensemble import RandomForestClassifier\n",
        "from sklearn.preprocessing import StandardScaler\n",
        "from sklearn import datasets"
      ]
    },
    {
      "cell_type": "code",
      "source": [
        "# chamar o dataset e passar os dados e alvo\n",
        "iris = datasets.load_iris()\n",
        "previsores = iris.data\n",
        "classe = iris.target\n",
        "previsores"
      ],
      "metadata": {
        "collapsed": true,
        "id": "8ZBvYGLc3Yas"
      },
      "execution_count": null,
      "outputs": []
    },
    {
      "cell_type": "code",
      "source": [
        "# transformar os dados usando standardscaler\n",
        "sc = StandardScaler()\n",
        "previsores = sc.fit_transform(previsores)\n",
        "previsores"
      ],
      "metadata": {
        "collapsed": true,
        "id": "Pk0EC0dB32oz"
      },
      "execution_count": null,
      "outputs": []
    },
    {
      "cell_type": "code",
      "source": [
        "# separar os dados de treino e teste\n",
        "X_train, X_test, y_train, y_test = train_test_split(previsores, classe, test_size=0.3, random_state=123)"
      ],
      "metadata": {
        "id": "h2k3Sxiq4QB1"
      },
      "execution_count": null,
      "outputs": []
    },
    {
      "cell_type": "code",
      "source": [
        "# criar nosso modelo\n",
        "floresta = RandomForestClassifier(n_estimators=100, random_state=123)\n",
        "floresta.fit(X_train, y_train)\n",
        "\n",
        "# fazer as previsões\n",
        "previsoes = floresta.predict(X_test)\n",
        "\n",
        "# medir acurácia\n",
        "taxa_acerto = accuracy_score(y_test, previsoes)\n",
        "taxa_acerto"
      ],
      "metadata": {
        "id": "dpoXj09K4l7r"
      },
      "execution_count": null,
      "outputs": []
    },
    {
      "cell_type": "code",
      "source": [
        "# fazer o pca pra reduzir a dimensionalidade e criar 3 características\n",
        "pca = PCA(n_components=3) # num componentes precisa ser sempre menor que o num de atributos originais\n",
        "previsores_pca = pca.fit_transform(previsores)\n",
        "previsores_pca"
      ],
      "metadata": {
        "collapsed": true,
        "id": "KgptH4wq5Lbi"
      },
      "execution_count": null,
      "outputs": []
    },
    {
      "cell_type": "code",
      "source": [
        "# separar novamente os dados de treino e teste\n",
        "X_train, X_test, y_train, y_test = train_test_split(previsores, classe, test_size=0.3, random_state=123)"
      ],
      "metadata": {
        "id": "GxMtOdsQ6OTS"
      },
      "execution_count": null,
      "outputs": []
    },
    {
      "cell_type": "code",
      "source": [
        "# criar outro modelo\n",
        "floresta = RandomForestClassifier(n_estimators=100, random_state=123)\n",
        "floresta.fit(X_train, y_train)\n",
        "\n",
        "# fazer as previsões\n",
        "previsoes = floresta.predict(X_test)\n",
        "\n",
        "# medir acurácia\n",
        "taxa_acerto = accuracy_score(y_test, previsoes)\n",
        "taxa_acerto"
      ],
      "metadata": {
        "id": "FcXUnTV06Gea"
      },
      "execution_count": null,
      "outputs": []
    }
  ]
}