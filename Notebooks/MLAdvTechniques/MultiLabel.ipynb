{
  "nbformat": 4,
  "nbformat_minor": 0,
  "metadata": {
    "colab": {
      "provenance": [],
      "authorship_tag": "ABX9TyMtUP/SLmuDIVCeNUNsByjS",
      "include_colab_link": true
    },
    "kernelspec": {
      "name": "python3",
      "display_name": "Python 3"
    },
    "language_info": {
      "name": "python"
    }
  },
  "cells": [
    {
      "cell_type": "markdown",
      "metadata": {
        "id": "view-in-github",
        "colab_type": "text"
      },
      "source": [
        "<a href=\"https://colab.research.google.com/github/carloscesar182/ai_advanced_course/blob/main/Notebooks/MLAdvTechniques/MultiLabel.ipynb\" target=\"_parent\"><img src=\"https://colab.research.google.com/assets/colab-badge.svg\" alt=\"Open In Colab\"/></a>"
      ]
    },
    {
      "cell_type": "code",
      "execution_count": null,
      "metadata": {
        "id": "KIqzYDy9V1Xf"
      },
      "outputs": [],
      "source": [
        "import pandas as pd\n",
        "from sklearn.model_selection import train_test_split\n",
        "from sklearn.svm import SVC\n",
        "from sklearn.metrics import hamming_loss\n",
        "from sklearn.multioutput import ClassifierChain\n",
        "from sklearn.preprocessing import StandardScaler"
      ]
    },
    {
      "cell_type": "code",
      "source": [
        "# importar o arquivo\n",
        "musica = pd.read_csv('Musica.csv')\n",
        "musica.head(10)"
      ],
      "metadata": {
        "id": "rBFAGA4tcP1m"
      },
      "execution_count": null,
      "outputs": []
    },
    {
      "cell_type": "code",
      "source": [
        "musica.shape"
      ],
      "metadata": {
        "id": "x8Af5HFKdDal"
      },
      "execution_count": null,
      "outputs": []
    },
    {
      "cell_type": "code",
      "source": [
        "# separar nossas classes dos previsores\n",
        "classes = musica.iloc[:,0:6].values\n",
        "previsores = musica.iloc[:,7:78].values"
      ],
      "metadata": {
        "id": "fvx9B0CTfyLr"
      },
      "execution_count": null,
      "outputs": []
    },
    {
      "cell_type": "code",
      "source": [
        "# padronizar os previsores\n",
        "# padronização é uma tecnica para que todas as variáveis façam uma contribuição semelhante para o modelo\n",
        "scaler = StandardScaler()\n",
        "previsores = scaler.fit_transform(previsores)\n",
        "previsores"
      ],
      "metadata": {
        "id": "xBYGqLOfgJeq"
      },
      "execution_count": null,
      "outputs": []
    },
    {
      "cell_type": "code",
      "source": [
        "# dividir a base treino e teste\n",
        "X_train, X_test, y_train, y_test = train_test_split(previsores, classes, test_size=0.3, random_state=5)"
      ],
      "metadata": {
        "id": "W1rPlp2Ggj7y"
      },
      "execution_count": null,
      "outputs": []
    },
    {
      "cell_type": "code",
      "source": [
        "# criar o modelo\n",
        "# primeiro criar uma instancia da maquina de vetor de suporte pq vamos precisar para o classifierchain\n",
        "# classifierchain é um método classificador de problema que usa um classificador\n",
        "svm = SVC()\n",
        "classifier_chain = ClassifierChain(base_estimator=svm, random_state=5)\n",
        "classifier_chain.fit(X_train, y_train)"
      ],
      "metadata": {
        "id": "DgXj9zlTg2s7"
      },
      "execution_count": null,
      "outputs": []
    },
    {
      "cell_type": "code",
      "source": [
        "# fazer previsões\n",
        "y_pred = classifier_chain.predict(X_test)\n",
        "loss = hamming_loss(y_test, y_pred)\n",
        "print(f'Hamming Loss: {loss:.2f}') # mostra o percentual de classificações erradas"
      ],
      "metadata": {
        "id": "GZIgL1dlhcny"
      },
      "execution_count": null,
      "outputs": []
    }
  ]
}