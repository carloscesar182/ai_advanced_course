{
  "nbformat": 4,
  "nbformat_minor": 0,
  "metadata": {
    "colab": {
      "provenance": [],
      "authorship_tag": "ABX9TyNdmo3DzfnW0d591vbj8v9s",
      "include_colab_link": true
    },
    "kernelspec": {
      "name": "python3",
      "display_name": "Python 3"
    },
    "language_info": {
      "name": "python"
    }
  },
  "cells": [
    {
      "cell_type": "markdown",
      "metadata": {
        "id": "view-in-github",
        "colab_type": "text"
      },
      "source": [
        "<a href=\"https://colab.research.google.com/github/carloscesar182/ai_advanced_course/blob/main/Notebooks/MLAdvTechniques/EngAtributos.ipynb\" target=\"_parent\"><img src=\"https://colab.research.google.com/assets/colab-badge.svg\" alt=\"Open In Colab\"/></a>"
      ]
    },
    {
      "cell_type": "code",
      "execution_count": null,
      "metadata": {
        "id": "JrX7s5iIKRrk"
      },
      "outputs": [],
      "source": [
        "import pandas as pd\n",
        "from sklearn.preprocessing import LabelEncoder, StandardScaler"
      ]
    },
    {
      "cell_type": "code",
      "source": [
        "dataset = pd.read_csv('credit_simple.csv', sep=';')\n",
        "dataset.shape"
      ],
      "metadata": {
        "id": "D0bCoolAKtQc"
      },
      "execution_count": null,
      "outputs": []
    },
    {
      "cell_type": "code",
      "source": [
        "dataset.head()"
      ],
      "metadata": {
        "id": "Mxhvu9u4LJjF"
      },
      "execution_count": null,
      "outputs": []
    },
    {
      "cell_type": "code",
      "source": [
        "# defining as variaveis X e y\n",
        "y = dataset['CLASSE']\n",
        "X = dataset.iloc[:,:-1]"
      ],
      "metadata": {
        "id": "ZDxmV6q2LT_r"
      },
      "execution_count": null,
      "outputs": []
    },
    {
      "cell_type": "code",
      "source": [
        "# ver objetos faltantes em X\n",
        "X.isnull().sum()"
      ],
      "metadata": {
        "id": "RrS88UzoLe78"
      },
      "execution_count": null,
      "outputs": []
    },
    {
      "cell_type": "code",
      "source": [
        "# calcular a mediana do saldo atual\n",
        "mediana = X['SALDO_ATUAL'].median()\n",
        "mediana"
      ],
      "metadata": {
        "id": "9R-rXyUcL20j"
      },
      "execution_count": null,
      "outputs": []
    },
    {
      "cell_type": "code",
      "source": [
        "# atualizar o saldo atual com a mediana encontrada\n",
        "X['SALDO_ATUAL'].fillna(mediana, inplace=True)\n",
        "\n",
        "# verificar se ficou algo nulo\n",
        "X.isnull().sum()"
      ],
      "metadata": {
        "id": "SjrPFu68Nnj7"
      },
      "execution_count": null,
      "outputs": []
    },
    {
      "cell_type": "code",
      "source": [
        "# agrupar o estado civil pra ver a moda\n",
        "agrupado = X.groupby(['ESTADOCIVIL']).size()\n",
        "agrupado"
      ],
      "metadata": {
        "id": "PtTduggcirLg"
      },
      "execution_count": null,
      "outputs": []
    },
    {
      "cell_type": "code",
      "source": [
        "# aplicar a moda no estado civil\n",
        "X['ESTADOCIVIL'].fillna('masculino solteiro', inplace=True)\n",
        "X.isnull().sum()"
      ],
      "metadata": {
        "id": "aNDjs_HVjGBR"
      },
      "execution_count": null,
      "outputs": []
    },
    {
      "cell_type": "code",
      "source": [
        "# verificar outliers (valores fora do padrão)\n",
        "# usar tecnica simples de desvio padrão, mas tem outras já prontas e mais completas\n",
        "desv = X['SALDO_ATUAL'].std()\n",
        "desv"
      ],
      "metadata": {
        "colab": {
          "base_uri": "https://localhost:8080/"
        },
        "id": "ykkNDO-jjsO3",
        "outputId": "faff412b-8504-4fc0-d212-5755d9bb9e8e"
      },
      "execution_count": null,
      "outputs": [
        {
          "output_type": "execute_result",
          "data": {
            "text/plain": [
              "685936688.9820064"
            ]
          },
          "metadata": {},
          "execution_count": 18
        }
      ]
    },
    {
      "cell_type": "code",
      "source": [
        "# checar se temos algum lugar com 2x o desvio padrão\n",
        "X.loc[X['SALDO_ATUAL'] >= 2*desv, 'SALDO_ATUAL']"
      ],
      "metadata": {
        "id": "YocNMSHskm3e"
      },
      "execution_count": null,
      "outputs": []
    },
    {
      "cell_type": "code",
      "source": [
        "# calcular mediana do saldo atual\n",
        "mediana = X['SALDO_ATUAL'].median()\n",
        "mediana"
      ],
      "metadata": {
        "colab": {
          "base_uri": "https://localhost:8080/"
        },
        "id": "SfXk8gHFk4GB",
        "outputId": "5074d90d-3d3e-46d5-d8e7-817fe4ef6c4f"
      },
      "execution_count": null,
      "outputs": [
        {
          "output_type": "execute_result",
          "data": {
            "text/plain": [
              "2323.0"
            ]
          },
          "metadata": {},
          "execution_count": 20
        }
      ]
    },
    {
      "cell_type": "code",
      "source": [
        "# atualizar as 2 linhas que tiveram 2x desv padrão pra mediana\n",
        "X.loc[X['SALDO_ATUAL'] >= 2*desv, 'SALDO_ATUAL'] = mediana\n",
        "X.loc[X['SALDO_ATUAL'] >= 2*desv]"
      ],
      "metadata": {
        "id": "gZoa2TZTlQan"
      },
      "execution_count": null,
      "outputs": []
    },
    {
      "cell_type": "code",
      "source": [
        "# data binding = remover itens duplicados por digital errada ou de pouca relevancia\n",
        "agrupado = X.groupby(['PROPOSITO']).size()\n",
        "agrupado"
      ],
      "metadata": {
        "id": "XGENX4RcnGH9"
      },
      "execution_count": null,
      "outputs": []
    },
    {
      "cell_type": "code",
      "source": [
        "# transformação\n",
        "# eletrodomesticos e qualificação estão pouco representados, então vamos transofrmar em 'outros'\n",
        "X.loc[X['PROPOSITO'] == 'Eletrodomésticos', 'PROPOSITO'] = 'outros'\n",
        "X.loc[X['PROPOSITO'] == 'qualificação', 'PROPOSITO'] = 'outros'\n",
        "\n",
        "# verificar o resultado do agrupamento\n",
        "agrupado = X.groupby(['PROPOSITO']).size()\n",
        "agrupado"
      ],
      "metadata": {
        "id": "k4ML1G5PnkQN"
      },
      "execution_count": null,
      "outputs": []
    },
    {
      "cell_type": "code",
      "source": [
        "# extração de características\n",
        "X['DATA']"
      ],
      "metadata": {
        "id": "Mqr67aJOoF--"
      },
      "execution_count": null,
      "outputs": []
    },
    {
      "cell_type": "code",
      "source": [
        "# colocar no formato padrão usando pandas\n",
        "X['DATA'] = pd.to_datetime(X['DATA'], format='%d/%m/%Y')\n",
        "X['DATA']"
      ],
      "metadata": {
        "id": "Gij3IZY6oaXV"
      },
      "execution_count": null,
      "outputs": []
    },
    {
      "cell_type": "code",
      "source": [
        "# criar 3 atributos para a data: ano, mes e dia\n",
        "X['ANO'] = X['DATA'].dt.year\n",
        "X['MES'] = X['DATA'].dt.month\n",
        "X['DIASEMANA'] = X['DATA'].dt.day_name()"
      ],
      "metadata": {
        "id": "dKgRQBGjpHtF"
      },
      "execution_count": null,
      "outputs": []
    },
    {
      "cell_type": "code",
      "source": [
        "X['DIASEMANA']"
      ],
      "metadata": {
        "id": "RwSW4V1Yppo1"
      },
      "execution_count": null,
      "outputs": []
    },
    {
      "cell_type": "code",
      "source": [
        "# label encoder pra informações categóricas ele atribui um valor numérico\n",
        "# alguns modelos são capazes de converter sozinhos mas a maioria não\n",
        "# é muito usando em redes neurais\n",
        "X['ESTADOCIVIL'].unique()\n",
        "X['PROPOSITO'].unique()\n",
        "X['DIASEMANA'].unique()"
      ],
      "metadata": {
        "colab": {
          "base_uri": "https://localhost:8080/"
        },
        "id": "LSlXQMfvp1if",
        "outputId": "25a5556c-831f-44fc-95bd-bbab4a2fead2"
      },
      "execution_count": null,
      "outputs": [
        {
          "output_type": "execute_result",
          "data": {
            "text/plain": [
              "array(['Tuesday', 'Wednesday', 'Thursday', 'Saturday', 'Sunday', 'Monday',\n",
              "       'Friday'], dtype=object)"
            ]
          },
          "metadata": {},
          "execution_count": 33
        }
      ]
    },
    {
      "cell_type": "code",
      "source": [
        "# criar o label encoder\n",
        "labelencoder1 = LabelEncoder()\n",
        "X['ESTADOCIVIL'] = labelencoder1.fit_transform(X['ESTADOCIVIL'])\n",
        "X['PROPOSITO'] = labelencoder1.fit_transform(X['PROPOSITO'])\n",
        "X['DIASEMANA'] = labelencoder1.fit_transform(X['DIASEMANA'])\n",
        "X.head()"
      ],
      "metadata": {
        "id": "Z250GSIEqn9e"
      },
      "execution_count": null,
      "outputs": []
    },
    {
      "cell_type": "code",
      "source": [
        "# ver a cardinalidade na coluna OUTROSPLANOSPGTO\n",
        "outros = X['OUTROSPLANOSPGTO'].unique()\n",
        "outros"
      ],
      "metadata": {
        "id": "y2D-8CbHrTqj"
      },
      "execution_count": null,
      "outputs": []
    },
    {
      "cell_type": "code",
      "source": [
        "# aplicar o one-hot encoding na coluna OUTROSPLANOSPGTO\n",
        "z = pd.get_dummies(X['OUTROSPLANOSPGTO'], prefix='OUTROS')\n",
        "z"
      ],
      "metadata": {
        "id": "AaPbFP8nrjOT"
      },
      "execution_count": null,
      "outputs": []
    },
    {
      "cell_type": "code",
      "source": [
        "# analizar X\n",
        "X"
      ],
      "metadata": {
        "id": "ZdjNymJvsAN7"
      },
      "execution_count": null,
      "outputs": []
    },
    {
      "cell_type": "code",
      "source": [
        "# padronizar com standard scaler os atributos numericos\n",
        "sc = StandardScaler()\n",
        "m = sc.fit_transform(X.iloc[:,:3])\n",
        "m"
      ],
      "metadata": {
        "id": "I0uU_wtgsQ8y"
      },
      "execution_count": null,
      "outputs": []
    },
    {
      "cell_type": "code",
      "source": [
        "# juntar z e m no dataframe original\n",
        "X = pd.concat([X, z,pd.DataFrame(m,columns=['SALDO_ATUAL_N','RESIDENCIA_DESDE_N','IDADE_N'])], axis=1)\n",
        "X.head()"
      ],
      "metadata": {
        "id": "1_k671CzsdrT"
      },
      "execution_count": null,
      "outputs": []
    },
    {
      "cell_type": "code",
      "source": [
        "# dropar colunas desnecessarias\n",
        "X.drop(columns=['SALDO_ATUAL','RESIDENCIADESDE','IDADE','OUTROSPLANOSPGTO','DATA','OUTROS_banco'], inplace=True)\n",
        "X"
      ],
      "metadata": {
        "id": "8ges8Czyw3oB"
      },
      "execution_count": null,
      "outputs": []
    }
  ]
}