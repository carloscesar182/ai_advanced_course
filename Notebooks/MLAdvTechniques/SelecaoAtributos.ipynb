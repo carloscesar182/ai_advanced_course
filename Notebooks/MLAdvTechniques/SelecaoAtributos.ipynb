{
  "nbformat": 4,
  "nbformat_minor": 0,
  "metadata": {
    "colab": {
      "provenance": [],
      "authorship_tag": "ABX9TyNShrNODZlQneTmbbL5wfcA",
      "include_colab_link": true
    },
    "kernelspec": {
      "name": "python3",
      "display_name": "Python 3"
    },
    "language_info": {
      "name": "python"
    }
  },
  "cells": [
    {
      "cell_type": "markdown",
      "metadata": {
        "id": "view-in-github",
        "colab_type": "text"
      },
      "source": [
        "<a href=\"https://colab.research.google.com/github/carloscesar182/ai_advanced_course/blob/main/Notebooks/MLAdvTechniques/SelecaoAtributos.ipynb\" target=\"_parent\"><img src=\"https://colab.research.google.com/assets/colab-badge.svg\" alt=\"Open In Colab\"/></a>"
      ]
    },
    {
      "cell_type": "code",
      "execution_count": null,
      "metadata": {
        "id": "tRqkmr-LVfpG"
      },
      "outputs": [],
      "source": [
        "import pandas as pd\n",
        "from sklearn.model_selection import train_test_split\n",
        "from sklearn.naive_bayes import GaussianNB\n",
        "from sklearn.metrics import accuracy_score\n",
        "from sklearn.feature_selection import chi2, SelectKBest # técnica pra seleção de atributos será o chi2 mas o método será o SelectKBest"
      ]
    },
    {
      "cell_type": "code",
      "source": [
        "# importar o arquivo ad.data\n",
        "anuncio = pd.read_csv('ad.data', header=None)\n",
        "anuncio.shape # mostra qntas instancias e quantos atributos"
      ],
      "metadata": {
        "id": "r3VP0YcTXj51"
      },
      "execution_count": null,
      "outputs": []
    },
    {
      "cell_type": "code",
      "source": [
        "# separar variáveis independentes da dependente\n",
        "X = anuncio.iloc[:,:-1].values\n",
        "y = anuncio.iloc[:,-1].values"
      ],
      "metadata": {
        "id": "x6MpBVXlYkCS"
      },
      "execution_count": null,
      "outputs": []
    },
    {
      "cell_type": "code",
      "source": [
        "X"
      ],
      "metadata": {
        "id": "nbAhr3CHY8kJ"
      },
      "execution_count": null,
      "outputs": []
    },
    {
      "cell_type": "code",
      "source": [
        "y"
      ],
      "metadata": {
        "id": "pE540gLnY9m5"
      },
      "execution_count": null,
      "outputs": []
    },
    {
      "cell_type": "code",
      "source": [
        "# dividir os dados em treino e teste\n",
        "X_train, X_test, y_train, y_test = train_test_split(X, y, test_size=0.3, random_state=0)"
      ],
      "metadata": {
        "id": "rR0Dw1QbZBkB"
      },
      "execution_count": null,
      "outputs": []
    },
    {
      "cell_type": "code",
      "source": [
        "# criar o modelo naive bayes\n",
        "modelo1 = GaussianNB()\n",
        "modelo1.fit(X_train, y_train) # cria o objeto do modelo e treina com dados de treino\n",
        "\n",
        "# fazer as previsões\n",
        "previsoes1 = modelo1.predict(X_test) # faz a previsão com os dados de teste\n",
        "\n",
        "# medir a performance\n",
        "print(accuracy_score(y_test, previsoes1)) # mede a performance com y_teste com dados previstos. Compara o que de fato aconteceu para as mesmas linhas"
      ],
      "metadata": {
        "id": "DzrT7XViZLfx"
      },
      "execution_count": null,
      "outputs": []
    },
    {
      "cell_type": "code",
      "source": [
        "# fazer a seleção de atributos\n",
        "selecao = SelectKBest(chi2, k=7)\n",
        "# X_novo são os novos dados pra X que queremos treinar o modelo\n",
        "X_novo = selecao.fit_transform(X, y) # retorna o objeto que traz as colunas selecionadas. Passa y pq a seleção acontece de acordo com a classe\n",
        "X_novo.shape"
      ],
      "metadata": {
        "id": "lG3zJBJAaHQx"
      },
      "execution_count": null,
      "outputs": []
    },
    {
      "cell_type": "code",
      "source": [
        "print(selecao.get_support()) # indica se a coluna foi selecionada ou não"
      ],
      "metadata": {
        "id": "1inOgOXebSXo"
      },
      "execution_count": null,
      "outputs": []
    },
    {
      "cell_type": "code",
      "source": [
        "# nova divisão dos dados em treino e teste (mudar apenas o X pra X_novo)\n",
        "X_train, X_test, y_train, y_test = train_test_split(X_novo, y, test_size=0.3, random_state=0)"
      ],
      "metadata": {
        "id": "ABEiTRzNbkHP"
      },
      "execution_count": null,
      "outputs": []
    },
    {
      "cell_type": "code",
      "source": [
        "# criar o modelo naive bayes\n",
        "modelo2 = GaussianNB()\n",
        "modelo2.fit(X_train, y_train) # cria o objeto do modelo e treina com dados de treino\n",
        "\n",
        "# fazer as previsões\n",
        "previsoes2 = modelo2.predict(X_test) # faz a previsão com os dados de teste\n",
        "\n",
        "# medir a performance\n",
        "print(accuracy_score(y_test, previsoes2)) # mede a performance com y_teste com dados previstos. Compara o que de fato aconteceu para as mesmas linhas"
      ],
      "metadata": {
        "id": "4-C1Ipoebwr_"
      },
      "execution_count": null,
      "outputs": []
    }
  ]
}